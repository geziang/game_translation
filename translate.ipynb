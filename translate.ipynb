{
 "nbformat": 4,
 "nbformat_minor": 2,
 "metadata": {
  "language_info": {
   "name": "python",
   "codemirror_mode": {
    "name": "ipython",
    "version": 3
   },
   "version": "3.7.0"
  },
  "orig_nbformat": 2,
  "file_extension": ".py",
  "mimetype": "text/x-python",
  "name": "python",
  "npconvert_exporter": "python",
  "pygments_lexer": "ipython3",
  "version": 3
 },
 "cells": [
  {
   "cell_type": "code",
   "execution_count": null,
   "metadata": {},
   "outputs": [],
   "source": [
    "# 打开文件\n",
    "with open('scene1.ks', 'r', encoding='utf-8') as f:\n",
    "    data = f.readlines()\n",
    "text = data"
   ]
  },
  {
   "cell_type": "code",
   "execution_count": null,
   "metadata": {},
   "outputs": [],
   "source": [
    "# 提取日文，保存到jp.text\n",
    "jp = []\n",
    "num = len(text)\n",
    "for line in text:\n",
    "    if line[-4:-1] == '[p]':\n",
    "        jp.append(line)\n",
    "with open('jp.text', 'w', encoding='utf-8') as f:\n",
    "    for line in jp:\n",
    "        f.write(line)"
   ]
  },
  {
   "cell_type": "code",
   "execution_count": 44,
   "metadata": {},
   "outputs": [
    {
     "name": "stdout",
     "output_type": "stream",
     "text": "总共 2891 条\n"
    }
   ],
   "source": [
    "# 根据文本建立空value字典，保存到 jp-chs.json\n",
    "\n",
    "import json\n",
    "\n",
    "with open('jp.text', 'r', encoding='utf-8') as f:\n",
    "    text_jp = f.readlines()\n",
    "j_c = dict()\n",
    "print('总共', num, '条')\n",
    "for line in text_jp:\n",
    "    j_c[line[:-4]] = ''\n",
    "\n",
    "with open('jp-chs.json', 'w', encoding='utf-8') as f:\n",
    "    f.write(json.dumps(j_c))\n",
    "\n"
   ]
  },
  {
   "cell_type": "code",
   "execution_count": 47,
   "metadata": {},
   "outputs": [
    {
     "name": "stdout",
     "output_type": "stream",
     "text": "['「ええぇ？ちょっとナオ、何を言ってるの？全然意味がわからないんだけど…」', '「そ、そうだよね…。ごめん、なんでもない。忘れてくれ」', '「えっ…？\\u3000何なの一体？」', '「ちょっと…疲れてるんだ。最近、仕事が忙しいのもあって…」', '「ごめん………」', '「…わ、私の方こそ、その…きつい言い方しちゃって…」', '「あ、いや…。俺が変なこと言っちゃったから…。お、驚いた、よね？」', '「…う、うん…」', '昨夜、妻の理子とベットで交わした会話。', '「理子を…他の男に抱かせたい」']\n2725\n"
    }
   ],
   "source": [
    "# 打开jp-chs.json文件检查\n",
    "import json\n",
    "with open('jp-chs.json', 'r', encoding='utf-8') as f:\n",
    "    js = json.loads(f.read())\n",
    "print(list(js.keys())[:10])\n",
    "print(len(list(js.keys())))"
   ]
  },
  {
   "cell_type": "code",
   "execution_count": 58,
   "metadata": {},
   "outputs": [
    {
     "name": "stdout",
     "output_type": "stream",
     "text": "10 / 2725\n20 / 2725\n30 / 2725\n40 / 2725\n50 / 2725\n60 / 2725\n70 / 2725\n80 / 2725\n90 / 2725\n100 / 2725\n110 / 2725\n120 / 2725\n130 / 2725\n140 / 2725\n150 / 2725\n160 / 2725\n170 / 2725\n180 / 2725\n190 / 2725\n200 / 2725\n210 / 2725\n220 / 2725\n230 / 2725\n240 / 2725\n250 / 2725\n260 / 2725\n270/ 2725\n280 / 2725\n290 / 2725\n300 / 2725\n310 / 2725\n320 / 2725\n330 / 2725\n340 / 2725\n350 / 2725\n360 / 2725\n370 / 2725\n380 / 2725\n390 / 2725\n400 / 2725\n410 / 2725\n420 / 2725\n430 / 2725\n440 / 2725\n450 / 2725\n460 / 2725\n470 / 2725\n480 / 2725\n490 / 2725\n500 / 2725\n510 / 2725\n520 / 2725\n530 / 2725\n540 / 2725\n550 / 2725\n560 / 2725\n570 / 2725\n580 / 2725\n590 / 2725\n600 / 2725\n610 / 2725\n620 / 2725\n630 / 2725\n640 / 2725\n650 / 2725\n660 / 2725\n670 / 2725\n680 / 2725\n690 / 2725\n700 / 2725\n710 / 2725\n720 / 2725\n730 / 2725\n740 / 2725\n750 / 2725\n760 / 2725\n770 / 2725\n780 / 2725\n790 / 2725\n800 / 2725\n810 / 2725\n820 / 2725\n830 / 2725\n840 / 2725\n850 / 2725\n860 / 2725\n870 / 2725\n880 / 2725\n890 / 2725\n900 / 2725\n910 / 2725\n920 / 2725\n930 / 2725\n940 / 2725\n950 / 2725\n960 / 2725\n970 / 2725\n980 / 2725\n990 / 2725\n1000 / 2725\n1010 / 2725\n1020 / 2725\n1030 / 2725\n1040 / 2725\n1050 / 2725\n1060 / 2725\n1070 / 2725\n1080 / 2725\n1090 / 2725\n1100 / 2725\n1110 / 2725\n1120 / 2725\n1130 / 2725\n1140 / 2725\n1150 / 2725\n1160 / 2725\n1170 / 2725\n1180 / 2725\n1190 / 2725\n1200 / 2725\n1210 / 2725\n1220 / 2725\n1230 / 2725\n1240 / 2725\n1250 / 2725\n1260 / 2725\n1270 / 2725\n1280 / 2725\n1290 / 2725\n1300 / 2725\n1310 / 2725\n1320 / 2725\n1330 / 2725\n1340 / 2725\n1350 / 2725\n1360 / 2725\n1370 / 2725\n1380 / 2725\n1390 / 2725\n1400 / 2725\n1410 / 2725\n1420 / 2725\n1430 / 2725\n1440 / 2725\n1450 / 2725\n1460 / 2725\n1470 / 2725\n1480 / 2725\n1490 / 2725\n1500 / 2725\n1510 / 2725\n1520 / 2725\n1530 / 2725\n1540 / 2725\n1550 / 2725\n1560 / 2725\n1570 / 2725\n1580 / 2725\n1590 / 2725\n1600 / 2725\n1610 / 2725\n1620 / 2725\n1630 / 2725\n1640 / 2725\n1650 / 2725\n1660 / 2725\n1670 / 2725\n1680 / 2725\n1690 / 2725\n1700 / 2725\n1710 / 2725\n1720 / 2725\n1730 / 2725\n1740 / 2725\n1750 / 2725\n1760 / 2725\n1770 / 2725\n1780 / 2725\n1790 / 2725\n1800 / 2725\n1810 / 2725\n1820 / 2725\n1830 / 2725\n1840 / 2725\n1850 / 2725\n1860 / 2725\n1870 / 2725\n1880 / 2725\n1890 / 2725\n1900 / 2725\n1910 / 2725\n1920 / 2725\n1930 / 2725\n1940 / 2725\n1950 / 2725\n1960 / 2725\n1970 / 2725\n1980 / 2725\n1990 / 2725\n2000 / 2725\n2010 / 2725\n2020 / 2725\n2030 / 2725\n2040 / 2725\n2050 / 2725\n2060 / 2725\n2070 / 2725\n2080 / 2725\n2090 / 2725\n2100 / 2725\n2110 / 2725\n2120 / 2725\n2130 / 2725\n2140 / 2725\n2150 / 2725\n2160 / 2725\n2170 / 2725\n2180 / 2725\n2190 / 2725\n2200 / 2725\n2210 / 2725\n2220 / 2725\n2230 / 2725\n2240 / 2725\n2250 / 2725\n2260 / 2725\n2270 / 2725\n2280 / 2725\n2290 / 2725\n2300 / 2725\n2310 / 2725\n2320 / 2725\n2330 / 2725\n2340 / 2725\n2350 / 2725\n2360 / 2725\n2370 / 2725\n2380 / 2725\n2390 / 2725\n2400 / 2725\n2410 / 2725\n2420 / 2725\n2430 / 2725\n2440 / 2725\n2450 / 2725\n2460 / 2725\n2470 / 2725\n2480 / 2725\n2490 / 2725\n2500 / 2725\n2510 / 2725\n2520 / 2725\n2530 / 2725\n2540 / 2725\n2550 / 2725\n2560 / 2725\n2570 / 2725\n2580 / 2725\n2590 / 2725\n2600 / 2725\n2610 / 2725\n2620 / 2725\n2630 / 2725\n2640 / 2725\n2650 / 2725\n2660 / 2725\n2670 / 2725\n2680 / 2725\n2690 / 2725\n2700 / 2725\n2710 / 2725\n2720 / 2725\n失败： 0 个！\n"
    }
   ],
   "source": [
    "# 把字典翻译\n",
    "import json\n",
    "from tencentfanyi import translate as t\n",
    "\n",
    "with open('jp-chs.json', 'r', encoding='utf-8') as f:\n",
    "    data = json.loads(f.read())\n",
    "cnt = 0\n",
    "cnt_last = 0\n",
    "failed_list = []\n",
    "for key in data:\n",
    "    try:\n",
    "        if not data[key]:\n",
    "            ans = t(key)\n",
    "            data[key] = ans\n",
    "        cnt+=1\n",
    "        # FIXME\n",
    "        # if cnt == 100:\n",
    "        #     break\n",
    "        if cnt - cnt_last == 10:\n",
    "            cnt_last = cnt\n",
    "            print(cnt, '/', 2725)\n",
    "            with open('jp-chs.json', 'w', encoding='utf-8') as f:\n",
    "                f.write(json.dumps(data))\n",
    "    except Exception as e:\n",
    "        print(e)\n",
    "        failed_list.append(key)\n",
    "else:\n",
    "    with open('jp-chs.json', 'w', encoding='utf-8') as f:\n",
    "        f.write(json.dumps(data))\n",
    "    with open('failed.text', 'w', encoding='utf-8') as f:\n",
    "        for line in failed_list:\n",
    "            f.write(line)\n",
    "    print('失败：', len(failed_list), '个！')\n"
   ]
  },
  {
   "cell_type": "code",
   "execution_count": 61,
   "metadata": {},
   "outputs": [
    {
     "name": "stdout",
     "output_type": "stream",
     "text": "ドクッ、ドクッ、ドクッ、ドクッ、ドクッ、ドクッ、ドクッ… \nドクッ、ドクッ、ドクッ、ドクッ、ドクッ、ドクッ、ドクッ、ドクッ、ドクッ、ドクッ \n"
    }
   ],
   "source": [
    "# 构建对比\n",
    "with open('jp-chs.json', 'r', encoding='utf-8') as f:\n",
    "    data = json.loads(f.read())\n",
    "cnt = 0\n",
    "with open('contrast.json', 'w', encoding='utf-8') as f:\n",
    "    for i in data:\n",
    "        if data[i]:\n",
    "            f.write(i+' '+data[i]+'\\n')\n",
    "        else:\n",
    "            print(i, data[i])"
   ]
  },
  {
   "cell_type": "code",
   "execution_count": 60,
   "metadata": {},
   "outputs": [
    {
     "name": "stdout",
     "output_type": "stream",
     "text": "0\n"
    }
   ],
   "source": [
    "# 替换原文件\n",
    "with open('jp-chs.json', 'r', encoding='utf-8') as f:\n",
    "    jp_chs = json.loads(f.read())\n",
    "with open('scene1.ks', 'r', encoding='utf-8') as f:\n",
    "    data = f.readlines()\n",
    "cnt = 0\n",
    "for line in data:\n",
    "    key = line[:-4]\n",
    "    if key in jp_chs:\n",
    "        if line[0] == '「':\n",
    "            data[cnt] = '「' + jp_chs[key][1:-1] + '」[p]\\n'\n",
    "        else:\n",
    "            data[cnt] = jp_chs[key][1:-1] + '[p]\\n'\n",
    "    cnt += 1\n",
    "\n",
    "with open('scene1.ks.test', 'w', encoding='utf-8') as f:\n",
    "    for line in data\n",
    "        f.write(line)\n"
   ]
  },
  {
   "cell_type": "code",
   "execution_count": 62,
   "metadata": {},
   "outputs": [
    {
     "name": "stdout",
     "output_type": "stream",
     "text": "23\n"
    }
   ],
   "source": [
    "a = '1234'\n",
    "print(a[1:-1])"
   ]
  },
  {
   "cell_type": "code",
   "execution_count": null,
   "metadata": {},
   "outputs": [],
   "source": []
  }
 ]
}