{
 "cells": [
  {
   "cell_type": "code",
   "execution_count": 1,
   "metadata": {},
   "outputs": [],
   "source": [
    "import os\n",
    "import re\n",
    "import json\n",
    "import chardet\n",
    "import public_function as pf\n",
    "\n",
    "# NOTE 中间的所有文件都是UTF8\n",
    "encoding = 'cp932'\n",
    "output_encoding = 'gbk'\n",
    "\n",
    "pf._init_()\n",
    "name = '学園ＮＴＲ -僕の知らない彼女の淫顔-'"
   ]
  },
  {
   "cell_type": "code",
   "execution_count": null,
   "metadata": {},
   "outputs": [],
   "source": [
    "# FIXME 从游戏原文本文件提取日文\n",
    "\n",
    "def get_scenario_from_origin(data: list) -> list:\n",
    "    text_all = []\n",
    "    cnt = 0\n",
    "    # START FIXME\n",
    "    for line in data:\n",
    "        if pf.has_jp(line) and line[0] not in '/<':\n",
    "            text_all.append(line)\n",
    "        cnt+=1\n",
    "    # END\n",
    "    return text_all\n",
    "\n",
    "pf.extract_jp(get_scenario_from_origin, encoding)\n"
   ]
  },
  {
   "cell_type": "code",
   "execution_count": null,
   "metadata": {},
   "outputs": [],
   "source": [
    "# FIXME 创建翻译字典\n",
    "pf.create_dict(lambda x:x[:-1])"
   ]
  },
  {
   "cell_type": "code",
   "execution_count": null,
   "metadata": {},
   "outputs": [],
   "source": [
    "# 检查字典key数量是否正确\n",
    "pf.check_dict()"
   ]
  },
  {
   "cell_type": "code",
   "execution_count": null,
   "metadata": {
    "tags": [
     "outputPrepend",
     "outputPrepend",
     "outputPrepend",
     "outputPrepend",
     "outputPrepend",
     "outputPrepend",
     "outputPrepend",
     "outputPrepend",
     "outputPrepend",
     "outputPrepend",
     "outputPrepend",
     "outputPrepend",
     "outputPrepend",
     "outputPrepend",
     "outputPrepend",
     "outputPrepend",
     "outputPrepend",
     "outputPrepend",
     "outputPrepend",
     "outputPrepend",
     "outputPrepend",
     "outputPrepend",
     "outputPrepend",
     "outputPrepend",
     "outputPrepend",
     "outputPrepend",
     "outputPrepend",
     "outputPrepend",
     "outputPrepend",
     "outputPrepend",
     "outputPrepend",
     "outputPrepend",
     "outputPrepend",
     "outputPrepend",
     "outputPrepend",
     "outputPrepend",
     "outputPrepend",
     "outputPrepend",
     "outputPrepend",
     "outputPrepend",
     "outputPrepend",
     "outputPrepend",
     "outputPrepend",
     "outputPrepend",
     "outputPrepend",
     "outputPrepend",
     "outputPrepend",
     "outputPrepend",
     "outputPrepend",
     "outputPrepend",
     "outputPrepend",
     "outputPrepend",
     "outputPrepend",
     "outputPrepend",
     "outputPrepend",
     "outputPrepend",
     "outputPrepend",
     "outputPrepend",
     "outputPrepend",
     "outputPrepend"
    ]
   },
   "outputs": [],
   "source": [
    "# 把字典翻译\n",
    "\n",
    "# print(pf.ANIM.format_t('そのためなら、多少@[手間:てま]@[隙:ひま]がかかるのは仕方がない。'))\n",
    "pf.translate(delete_func=pf.RPM.formate)\n",
    "# print(pf._translate('　なあ、<WinRubi 福永,ふくなが><WinRubi 裕人,ゆうと>よ！！」<KW><WinClear>', delete_func=pf.RPM.formate))"
   ]
  },
  {
   "cell_type": "code",
   "execution_count": null,
   "metadata": {
    "tags": [
     "outputPrepend"
    ]
   },
   "outputs": [],
   "source": [
    "# 检查是否还有没翻译的语句\n",
    "pf.check_dict_untranslated()"
   ]
  },
  {
   "cell_type": "code",
   "execution_count": null,
   "metadata": {},
   "outputs": [],
   "source": [
    "# 构建对比\n",
    "pf.create_contrast()"
   ]
  },
  {
   "cell_type": "code",
   "execution_count": 2,
   "metadata": {},
   "outputs": [
    {
     "output_type": "stream",
     "name": "stdout",
     "text": "共替换：19459句\n失败：0\n"
    }
   ],
   "source": [
    "\n",
    "\n",
    "def find_all(data:list, failed_text:list, jp_chs:dict):\n",
    "    record = 0\n",
    "    cnt = 0                         # 当前行\n",
    "    start = False\n",
    "    for line in data:\n",
    "        #START FIXME 替换目标文本\n",
    "        if pf.has_jp(line) and line[0] not in '/<':\n",
    "            key = line[:-1]\n",
    "            if key in jp_chs:\n",
    "                record += 1\n",
    "                # jp_chs[key] = jp_chs[key].replace('・', '')\n",
    "                data[cnt] = data[cnt].replace(key, jp_chs[key])\n",
    "            else:\n",
    "                failed_text.append(key+'\\n')\n",
    "        cnt += 1\n",
    "        # END \n",
    "    return record\n",
    "\n",
    "pf.replace_all(find_all, encoding, output_encoding)"
   ]
  },
  {
   "cell_type": "code",
   "execution_count": 4,
   "metadata": {},
   "outputs": [],
   "source": [
    "pf.RPM.repack_arc()"
   ]
  },
  {
   "cell_type": "code",
   "execution_count": null,
   "metadata": {},
   "outputs": [],
   "source": []
  }
 ],
 "metadata": {
  "language_info": {
   "name": "python",
   "codemirror_mode": {
    "name": "ipython",
    "version": 3
   },
   "version": "3.7.4-final"
  },
  "orig_nbformat": 2,
  "file_extension": ".py",
  "mimetype": "text/x-python",
  "name": "python",
  "npconvert_exporter": "python",
  "pygments_lexer": "ipython3",
  "version": 3,
  "kernelspec": {
   "name": "python37464bit82406virtualenv93632c3e06ed4fcc875f088ae7b7b01a",
   "display_name": "Python 3.7.4 64-bit ('82406': virtualenv)"
  }
 },
 "nbformat": 4,
 "nbformat_minor": 2
}