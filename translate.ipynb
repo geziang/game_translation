{
 "cells": [
  {
   "cell_type": "code",
   "execution_count": 1,
   "source": [
    "import os\r\n",
    "import re\r\n",
    "import json\r\n",
    "import chardet\r\n",
    "import src.public_function as pf\r\n",
    "\r\n",
    "# NOTE 中间的所有文件都是UTF8\r\n",
    "encoding = 'utf16'\r\n",
    "output_encoding = 'utf16'\r\n",
    "\r\n",
    "pf._init_()\r\n",
    "name = ''"
   ],
   "outputs": [],
   "metadata": {
    "tags": []
   }
  },
  {
   "cell_type": "code",
   "execution_count": null,
   "source": [
    "# 从游戏原文本文件提取日文\r\n",
    "\r\n",
    "def get_scenario_from_origin(data: list) -> list:\r\n",
    "    text_all = []\r\n",
    "    cnt = 0\r\n",
    "    # START FIXME\r\n",
    "    for line in data:\r\n",
    "        if pf.has_jp(line) and line[0] not in ';[/*\\t# ':\r\n",
    "            text_all.append(line)\r\n",
    "        cnt+=1\r\n",
    "    # END\r\n",
    "    return text_all\r\n",
    "\r\n",
    "pf.extract_jp(get_scenario_from_origin, encoding)\r\n"
   ],
   "outputs": [],
   "metadata": {}
  },
  {
   "cell_type": "code",
   "execution_count": null,
   "source": [
    "pf.convert_code('utf-8',path='chs')"
   ],
   "outputs": [],
   "metadata": {}
  },
  {
   "cell_type": "code",
   "execution_count": null,
   "source": [
    "# 创建翻译字典\r\n",
    "pf.create_dict(lambda x:x[:-1])"
   ],
   "outputs": [],
   "metadata": {
    "tags": []
   }
  },
  {
   "cell_type": "code",
   "execution_count": null,
   "source": [
    "# 检查字典key数量是否正确\r\n",
    "pf.check_dict()"
   ],
   "outputs": [],
   "metadata": {
    "tags": []
   }
  },
  {
   "cell_type": "code",
   "execution_count": 2,
   "source": [
    "# 把字典翻译\r\n",
    "\r\n",
    "# print(func('「・・・ああ、うん、それで・・・スペシャル餃子、一つ・・・」'))\r\n",
    "# pf.translate(pf.format_sakura)\r\n",
    "print(pf._translate('\"■１．思い切って提案する\\r\\n■２．やっぱり無理だ\\n\"', delete_func=lambda x: x.replace('・・・', '…')))"
   ],
   "outputs": [
    {
     "output_type": "stream",
     "name": "stdout",
     "text": [
      "\"■1.下定决心提出建议\n",
      "■2.果然做不到\n",
      "\"\n"
     ]
    }
   ],
   "metadata": {
    "tags": []
   }
  },
  {
   "cell_type": "code",
   "execution_count": null,
   "source": [
    "# 检查是否还有没翻译的语句\r\n",
    "pf.check_dict_untranslated()"
   ],
   "outputs": [],
   "metadata": {
    "tags": []
   }
  },
  {
   "cell_type": "code",
   "execution_count": null,
   "source": [
    "# 构建对比\r\n",
    "pf.create_contrast()"
   ],
   "outputs": [],
   "metadata": {}
  },
  {
   "cell_type": "code",
   "execution_count": null,
   "source": [
    "# 替换文本\r\n",
    "def find(data:list, failed_text:list, jp_chs:dict):\r\n",
    "    record = 0\r\n",
    "    cnt = 0                         # 当前行\r\n",
    "    start = False\r\n",
    "    for line in data:\r\n",
    "        #START FIXME 替换目标文本\r\n",
    "        if pf.has_jp(line) and line[0] not in ';[/*\\t# ':\r\n",
    "            key = line[:-1]\r\n",
    "            if key in jp_chs and jp_chs[key]:\r\n",
    "                record += 1\r\n",
    "                data[cnt] = data[cnt].replace(key, jp_chs[key])\r\n",
    "            else:\r\n",
    "                failed_text.append(key+'\\n')\r\n",
    "        cnt += 1\r\n",
    "        # END \r\n",
    "    return record\r\n",
    "\r\n",
    "pf.replace_all(find, encoding, output_encoding)"
   ],
   "outputs": [],
   "metadata": {
    "tags": []
   }
  },
  {
   "cell_type": "code",
   "execution_count": null,
   "source": [
    "jp_chs = dict()\r\n",
    "chs_file = os.listdir('chs')\r\n",
    "for f in chs_file:\r\n",
    "    _chs = pf.open_json(f'chs/{f}')\r\n",
    "    f = f.split('.')[0]+'.json'\r\n",
    "    json_root = 'intermediate_file/split_scenario/'+f\r\n",
    "    if os.path.exists(json_root):\r\n",
    "        _jp = pf.open_json(json_root)\r\n",
    "        _key_chs = list(_chs.keys())\r\n",
    "        _key_jp = list(_jp.keys())\r\n",
    "        if len(_key_chs) == len(_key_jp):\r\n",
    "            for i in range(len(_key_jp)):\r\n",
    "                jp_chs[_key_jp[i]] = _key_chs\r\n",
    "            # print('输入成功：', f)\r\n",
    "        else:\r\n",
    "            print('中日不匹配：', f)\r\n",
    "    else:\r\n",
    "        print('文件不存在：', f)\r\n",
    "pf.save_json('intermediate_file/jp_chs.json', jp_chs)"
   ],
   "outputs": [],
   "metadata": {
    "tags": []
   }
  },
  {
   "cell_type": "code",
   "execution_count": null,
   "source": [
    "jp_chs = pf.open_json(\"intermediate_file/jp_chs.json\")\r\n",
    "for key in jp_chs:\r\n",
    "    jp_chs[key] = key\r\n",
    "pf.save_json(\"intermediate_file/jp_chs.json\", jp_chs)"
   ],
   "outputs": [],
   "metadata": {}
  },
  {
   "cell_type": "code",
   "execution_count": null,
   "source": [
    "chs_file = os.listdir('chs')\r\n",
    "for f in chs_file:\r\n",
    "    new_name = f.replace(\".txt\",\".json\")\r\n",
    "    os.rename(f\"CHS/{f}\",f\"CHS/{new_name}\")"
   ],
   "outputs": [],
   "metadata": {}
  },
  {
   "cell_type": "code",
   "execution_count": null,
   "source": [
    "\"\"\"\r\n",
    "\"\", \",\r\n",
    ": \"\" : \"\r\n",
    "([^\"]),\\n $1\",\\n\r\n",
    ":([^\"]) : \"$1\r\n",
    ": ([^\"]) : \"$1\r\n",
    "\"\"\"\r\n",
    "\r\n",
    "jp_chs = pf.open_json(\"intermediate_file/jp_chs.json\")\r\n",
    "chs_file = os.listdir('chs')\r\n",
    "for f in chs_file:\r\n",
    "    # print(f)\r\n",
    "    try:\r\n",
    "        _chs = pf.open_json(f'chs/{f}')\r\n",
    "        for key in _chs:\r\n",
    "            jp_chs[key] = _chs[key]\r\n",
    "    except Exception as e:\r\n",
    "        print(f)\r\n",
    "\r\n",
    "pf.save_json(\"intermediate_file/jp_chs.json\", jp_chs)\r\n"
   ],
   "outputs": [],
   "metadata": {}
  },
  {
   "cell_type": "code",
   "execution_count": null,
   "source": [
    "data=\"隐藏文字,剧本回忆,跳过已读的文章,自动播放文本,保存,加载,设置,自动跳过已读的文章,文本速度,自动文本发送时间设置,字体选择,播放声音,音量调节,BGM,效果音,台词,MIDI输出端口选择,全屏,游戏结束,游戏结束,返回标题,结束\"\r\n",
    "ans = ' '.join(list(map(lambda x:hex(x)[2:], data.encode('gbk'))))\r\n",
    "print(ans, hex(len(ans)))"
   ],
   "outputs": [],
   "metadata": {}
  },
  {
   "cell_type": "code",
   "execution_count": null,
   "source": [
    "'戦国の黒百合～ふたなり姫と隷属の少女～'.encode('gbk')"
   ],
   "outputs": [],
   "metadata": {}
  },
  {
   "cell_type": "code",
   "execution_count": null,
   "source": [
    "os.mkdir(f'chs')"
   ],
   "outputs": [],
   "metadata": {}
  },
  {
   "cell_type": "code",
   "execution_count": null,
   "source": [
    "def extract_med():\r\n",
    "    '''\r\n",
    "    从input文件夹内的脚本文件抽取文本\r\n",
    "    文本自动存入intermediate_file/jp_all.txt        \r\n",
    "    '''\r\n",
    "    def _has_jp(line: str) -> bool:\r\n",
    "        '''\r\n",
    "        如果含有日文文字（除日文标点）则认为传入文字含有日文, 返回true\r\n",
    "        '''\r\n",
    "        for ch in line:\r\n",
    "            if ('\\u0800' <= ch and ch <= '\\u9fa5') or ('\\uff01' <= ch <= '\\uff5e'):\r\n",
    "                return True\r\n",
    "        return False\r\n",
    "\r\n",
    "    file_all = os.listdir('input')\r\n",
    "    ans = []\r\n",
    "    for f in file_all:\r\n",
    "        _ans = []\r\n",
    "        _data = pf.open_file_b(f'input/{f}')\r\n",
    "        # _data = MED.decrypt(_data)\r\n",
    "        _offset = int.from_bytes(_data[4:8], byteorder='little') + 0x10\r\n",
    "        _str = _data[_offset:]\r\n",
    "        _buff = b''\r\n",
    "        for i in _str:\r\n",
    "            if i:\r\n",
    "                _buff += pf.to_bytes(i, 1)\r\n",
    "            else:\r\n",
    "                try:\r\n",
    "                    _buff = _buff.decode('cp932')\r\n",
    "                    if _has_jp(_buff) and _buff[0] not in ';#':\r\n",
    "                        # if name:\r\n",
    "                        #     _buff = _buff.replace('＄０', name)\r\n",
    "                        _ans.append(_buff)\r\n",
    "                except Exception as e:\r\n",
    "                    print(e)\r\n",
    "                    print(f, _buff)\r\n",
    "                _buff = b''\r\n",
    "        _t = {}\r\n",
    "        for i in _ans:\r\n",
    "            _t[i]=\"\"\r\n",
    "        pf.save_file(f\"chs/{f}\", json.dumps(_t, ensure_ascii=False, indent=2))\r\n",
    "extract_med()"
   ],
   "outputs": [],
   "metadata": {}
  },
  {
   "cell_type": "code",
   "execution_count": null,
   "source": [],
   "outputs": [],
   "metadata": {}
  }
 ],
 "metadata": {
  "file_extension": ".py",
  "interpreter": {
   "hash": "428cac05c3fd125c462f01334eea15ff3d46b9aea755dc47eda58e9b4ab00d3e"
  },
  "kernelspec": {
   "name": "python3",
   "display_name": "Python 3.8.5 64-bit ('base': conda)"
  },
  "language_info": {
   "codemirror_mode": {
    "name": "ipython",
    "version": 3
   },
   "file_extension": ".py",
   "mimetype": "text/x-python",
   "name": "python",
   "nbconvert_exporter": "python",
   "pygments_lexer": "ipython3",
   "version": "3.8.5"
  },
  "mimetype": "text/x-python",
  "name": "python",
  "npconvert_exporter": "python",
  "orig_nbformat": 2,
  "pygments_lexer": "ipython3",
  "version": 3
 },
 "nbformat": 4,
 "nbformat_minor": 2
}