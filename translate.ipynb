{
 "cells": [
  {
   "cell_type": "code",
   "execution_count": 25,
   "metadata": {},
   "outputs": [],
   "source": [
    "import os\n",
    "import re\n",
    "import json\n",
    "import chardet\n",
    "import sqlite3\n",
    "import public_function as pf\n",
    "from tencentfanyi import translate as tencent_t\n",
    "from baidufanyi import translate as baidu_t\n",
    "\n",
    "# NOTE 中间的所有文件都是UTF8\n",
    "encoding = 'cp932'\n",
    "output_encoding = 'utf8'\n",
    "name = '[190830][ANIM.teamMM] 妻の肉穴にホームステイするマッチョ留学生2軒目～元巨乳グラドルの妻は、ダニーズ・ブートキャンプで汁だくメス子宮に開発されていた～'\n",
    "\n",
    "file_all = os.listdir()\n",
    "if 'intermediate_file' not in file_all:\n",
    "    os.mkdir('intermediate_file')\n",
    "if 'output' not in file_all:\n",
    "    os.mkdir('output')\n",
    "if 'input' not in file_all:\n",
    "    os.mkdir('input')"
   ]
  },
  {
   "cell_type": "code",
   "execution_count": null,
   "metadata": {},
   "outputs": [],
   "source": [
    "# FIXME 从游戏原文本文件提取日文\n",
    "\n",
    "def has_jp(line: str) -> bool:\n",
    "    '''\n",
    "    如果含有日文文字（除日文标点）则认为传入文字含有日文, 返回true\n",
    "    '''\n",
    "    for ch in line:\n",
    "        if ch >= '\\u0800' and ch < '\\u4e00':\n",
    "            return True\n",
    "    return False\n",
    "\n",
    "\n",
    "def get_scenario_from_origin(data: list) -> list:\n",
    "    text_all = []\n",
    "    cnt = 0\n",
    "    # START FIXME\n",
    "    for line in data:\n",
    "        if pf.has_jp(line) and line[:11] == '%SetMessage':\n",
    "            line = re.sub(r'/.','',line[14:-20])\n",
    "            text_all.append(line+'\\n')\n",
    "        cnt+=1\n",
    "    # END\n",
    "    return text_all\n",
    "\n",
    "pf.extract_jp(get_scenario_from_origin, encoding)\n"
   ]
  },
  {
   "cell_type": "code",
   "execution_count": null,
   "metadata": {},
   "outputs": [],
   "source": [
    "# FIXME 创建翻译字典\n",
    "pf.create_dict(lambda x:x[:-1])"
   ]
  },
  {
   "cell_type": "code",
   "execution_count": null,
   "metadata": {},
   "outputs": [],
   "source": [
    "# 检查字典key数量是否正确\n",
    "pf.check_dict()"
   ]
  },
  {
   "cell_type": "code",
   "execution_count": null,
   "metadata": {
    "tags": [
     "outputPrepend",
     "outputPrepend",
     "outputPrepend",
     "outputPrepend",
     "outputPrepend",
     "outputPrepend",
     "outputPrepend",
     "outputPrepend",
     "outputPrepend",
     "outputPrepend",
     "outputPrepend",
     "outputPrepend",
     "outputPrepend",
     "outputPrepend",
     "outputPrepend",
     "outputPrepend",
     "outputPrepend",
     "outputPrepend",
     "outputPrepend",
     "outputPrepend",
     "outputPrepend",
     "outputPrepend",
     "outputPrepend",
     "outputPrepend",
     "outputPrepend",
     "outputPrepend",
     "outputPrepend",
     "outputPrepend",
     "outputPrepend",
     "outputPrepend",
     "outputPrepend",
     "outputPrepend",
     "outputPrepend",
     "outputPrepend",
     "outputPrepend",
     "outputPrepend",
     "outputPrepend",
     "outputPrepend",
     "outputPrepend",
     "outputPrepend",
     "outputPrepend",
     "outputPrepend",
     "outputPrepend",
     "outputPrepend",
     "outputPrepend",
     "outputPrepend",
     "outputPrepend",
     "outputPrepend",
     "outputPrepend",
     "outputPrepend",
     "outputPrepend",
     "outputPrepend",
     "outputPrepend",
     "outputPrepend",
     "outputPrepend",
     "outputPrepend",
     "outputPrepend",
     "outputPrepend",
     "outputPrepend",
     "outputPrepend"
    ]
   },
   "outputs": [],
   "source": [
    "# 把字典翻译\n",
    "\n",
    "def delete_func(text:str):\n",
    "    '''\n",
    "    \\[.*?\\]|<.+?>|,|\\\\n|　|―+|\\\\|\"|\\]|\\[|\\/|\\;|[a-z0-9A-Z]\n",
    "    '''\n",
    "    patt = r'\\[.*?\\]|<.+?>|\\|'\n",
    "    return re.sub(patt, '', text)\n",
    "\n",
    "# delete_func('miz驚き赤み6')\n",
    "pf.translate(delete_func=None)\n",
    "# print(pf._translate('しかし、時に思うのだ。あの毒花のような女に誘われた時、それを拒絶できていたなら、違う|現在[いま]になっていただろうか、と。', delete_func=delete_func))"
   ]
  },
  {
   "cell_type": "code",
   "execution_count": null,
   "metadata": {
    "tags": [
     "outputPrepend",
     "outputPrepend"
    ]
   },
   "outputs": [],
   "source": [
    "# 检查是否还有没翻译的语句\n",
    "pf.check_dict_untranslated()"
   ]
  },
  {
   "cell_type": "code",
   "execution_count": null,
   "metadata": {},
   "outputs": [],
   "source": [
    "# 构建对比\n",
    "pf.create_contrast()"
   ]
  },
  {
   "cell_type": "code",
   "execution_count": null,
   "metadata": {},
   "outputs": [],
   "source": [
    "\n",
    "def find_all(data:list, failed_text:list, jp_chs:dict):\n",
    "    record = 0\n",
    "    cnt = 0                         # 当前行\n",
    "    start = False\n",
    "    for line in data:\n",
    "        #START FIXME 替换目标文本\n",
    "        if pf.has_jp(line) and line[0] not in ('{','n'):\n",
    "            key = line[1:-3]\n",
    "            if key in jp_chs:\n",
    "                record += 1\n",
    "                data[cnt] = data[cnt].replace(key, jp_chs[key])\n",
    "            else:\n",
    "                failed_text.append(key+'\\n')\n",
    "        cnt += 1\n",
    "        # END \n",
    "    return record\n",
    "\n",
    "pf.replace_all(find_all, encoding, output_encoding)"
   ]
  },
  {
   "cell_type": "code",
   "execution_count": null,
   "metadata": {},
   "outputs": [],
   "source": [
    "'僇僗僞儉僀儞僗僩乕儖帪偼僨傿僗僋儗僗偱偺婲摦偼偱偒傑偣傫丅'.encode('gbk').decode('cp932')"
   ]
  },
  {
   "cell_type": "code",
   "execution_count": null,
   "metadata": {},
   "outputs": [],
   "source": [
    "b'\\x81\\x76'.decode('cp932')"
   ]
  },
  {
   "cell_type": "code",
   "execution_count": null,
   "metadata": {},
   "outputs": [],
   "source": [
    "'你好'.encode('gbk')"
   ]
  },
  {
   "cell_type": "code",
   "execution_count": null,
   "metadata": {},
   "outputs": [],
   "source": [
    "'「イク、イクッ、イクイククッ、イギュッ！イックぅううううううっ▼▼▼」'.find('「イク、イクッ、イクイククッ、イギュッ！')"
   ]
  },
  {
   "cell_type": "code",
   "execution_count": null,
   "metadata": {},
   "outputs": [],
   "source": [
    "\n",
    "def create_key():\n",
    "    Key = b'\\xAA'*12\n",
    "    Key = bytearray(Key)\n",
    "    Key[0] ^= 0xff\n",
    "    Key[1] = (( Key[1] >> 4 ) | ( Key[1] << 4 ) )&0xff\n",
    "    Key[2] = Key[2] ^ 0x8a \n",
    "    Key[3] = ((( ( Key[3] >> 4 ) | ( Key[3] << 4 ) )) ^ 0xff) & 0xff\n",
    "    Key[4] ^= 0xff\n",
    "    Key[5] = Key[5] ^ 0xac \n",
    "    Key[6] ^= 0xff\n",
    "    Key[7] = ( ((( Key[7] >> 3 ) | ( Key[7] << 5 ) ) )^0xff )& 0xff\n",
    "    Key[8] = (( Key[8] >> 5 ) | ( Key[8] << 3 ))&0xff \n",
    "    Key[9] = Key[9] ^ 0x7f \n",
    "    Key[10] = (( ( Key[10] >> 4 ) | ( Key[10] << 4 ) ) ^ 0xd6 )& 0xff\n",
    "    Key[11] = Key[11] ^ 0xcc \n",
    "    return Key\n",
    "list(map(lambda x:print(hex(x)), Key))"
   ]
  },
  {
   "cell_type": "code",
   "execution_count": null,
   "metadata": {},
   "outputs": [],
   "source": [
    "raw = b'\\xCE\\xDF\\xE8\\xD6\\xDF\\xEC\\xDF\\xEC\\xE0\\xE4'\n",
    "ans = ''\n",
    "for i in raw:\n",
    "    ans += hex(i-0x2d)[2:] + ' '\n",
    "print(ans)"
   ]
  },
  {
   "cell_type": "code",
   "execution_count": null,
   "metadata": {},
   "outputs": [],
   "source": [
    "b'\\x0f\\x01M\\x01\\x8b\\x01\\xc9\\x01\\x07\\x02E\\x02\\x83\\x02\\xc1\\x02\\xff\\x02=\\x03{\\x03\\xb9\\x03\\xf7\\x035\\x04y\\x04;;'.decode('cp932', errors='ignore')"
   ]
  },
  {
   "cell_type": "code",
   "execution_count": null,
   "metadata": {},
   "outputs": [],
   "source": [
    "def dec(a:int, b:int):\n",
    "    return (a | b) & (~(a & b) & 0xff)\n",
    "print(hex(dec(0x54, 0x1f)))"
   ]
  },
  {
   "cell_type": "code",
   "execution_count": null,
   "metadata": {},
   "outputs": [],
   "source": [
    "'乽'.encode('gbk').decode('cp932')"
   ]
  },
  {
   "cell_type": "code",
   "execution_count": null,
   "metadata": {},
   "outputs": [],
   "source": [
    "import re\n",
    "s = '出来上がった叶愛@[謹製:きんせい]のハンバーグカレーをテーブルへと運んだ。'\n",
    "a = re.findall(r'@\\[.*?\\]',s)\n",
    "print(re.sub(r'@\\[.*?\\]','',s))\n",
    "print(a)"
   ]
  },
  {
   "cell_type": "code",
   "execution_count": null,
   "metadata": {},
   "outputs": [],
   "source": [
    "print(re.findall)"
   ]
  }
 ],
 "metadata": {
  "language_info": {
   "name": "python",
   "codemirror_mode": {
    "name": "ipython",
    "version": 3
   },
   "version": "3.7.4-final"
  },
  "orig_nbformat": 2,
  "file_extension": ".py",
  "mimetype": "text/x-python",
  "name": "python",
  "npconvert_exporter": "python",
  "pygments_lexer": "ipython3",
  "version": 3,
  "kernelspec": {
   "name": "python37464bit82406virtualenv93632c3e06ed4fcc875f088ae7b7b01a",
   "display_name": "Python 3.7.4 64-bit ('82406': virtualenv)"
  }
 },
 "nbformat": 4,
 "nbformat_minor": 2
}