{
 "nbformat": 4,
 "nbformat_minor": 2,
 "metadata": {
  "language_info": {
   "name": "python",
   "codemirror_mode": {
    "name": "ipython",
    "version": 3
   },
   "version": "3.7.0"
  },
  "orig_nbformat": 2,
  "file_extension": ".py",
  "mimetype": "text/x-python",
  "name": "python",
  "npconvert_exporter": "python",
  "pygments_lexer": "ipython3",
  "version": 3
 },
 "cells": [
  {
   "cell_type": "code",
   "execution_count": 5,
   "metadata": {},
   "outputs": [],
   "source": [
    "import os\n",
    "import json\n",
    "from tencentfanyi import translate as t\n",
    "from tencentfanyi import translate_test as t_test\n"
   ]
  },
  {
   "cell_type": "code",
   "execution_count": 8,
   "metadata": {},
   "outputs": [],
   "source": [
    "# 提取日文，保存到jp.text\n",
    "file_origial = os.listdir('input')\n",
    "file_origial = list(map(lambda x:'input/'+x, file_origial))\n",
    "\n",
    "jp = []\n",
    "for file_name in file_origial:\n",
    "    with open(file_name, 'r', encoding='utf-8') as f:\n",
    "        text_t = f.readlines()\n",
    "    for line_t in text_t:\n",
    "        if line_t[-4:-1] in ('[p]', '[r]'):\n",
    "            jp.append(line_t)\n",
    "\n",
    "with open('intermediate_file/jp_all.txt', 'w', encoding='utf-8') as f:\n",
    "    for line in jp:\n",
    "        f.write(line)"
   ]
  },
  {
   "cell_type": "code",
   "execution_count": 10,
   "metadata": {},
   "outputs": [
    {
     "name": "stdout",
     "output_type": "stream",
     "text": "总共 2371 条\n"
    }
   ],
   "source": [
    "# 根据文本建立空value字典，保存到 jp-chs.json\n",
    "with open('intermediate_file/jp_all.txt', 'r', encoding='utf-8') as f:\n",
    "    text_jp = f.readlines()\n",
    "j_c = dict()\n",
    "print('总共', len(text_jp), '条')\n",
    "for line in text_jp:\n",
    "    j_c[line[:-4]] = ''\n",
    "\n",
    "with open('intermediate_file/jp-chs.json', 'w', encoding='utf-8') as f:\n",
    "    f.write(json.dumps(j_c))\n",
    "\n"
   ]
  },
  {
   "cell_type": "code",
   "execution_count": 13,
   "metadata": {},
   "outputs": [
    {
     "name": "stdout",
     "output_type": "stream",
     "text": "['俺は今、最高に幸せだ。', '…富樫直哉、３２歳。普通のサラリーマン。', 'そして妻、理子。典型的な大和撫子の専業主婦。', '可愛い娘にも恵まれた、どこにでもいる、至極一般的な夫婦。', 'だけど…', '「理子…。愛してるよ」', '普通に愛し合う夫婦に見えるかもしれない。', 'だが、理子への過度ともいえる俺の愛情は、理子を寝取られるとより興奮するという…', '『一般的』『平凡』という言葉からは真逆のカタチを辿った…傍目では理解しがたい愛情で成り立っている夫婦、でもある。', '「理子…理子…あああ愛してるよ理子…」']\n需要翻译： 2179 条\n共有日文： 2371 条， 应翻译： 2179 条\n"
    }
   ],
   "source": [
    "# 打开jp-chs.json文件检查\n",
    "import json\n",
    "with open('intermediate_file/jp-chs.json', 'r', encoding='utf-8') as f:\n",
    "    js = json.loads(f.read())\n",
    "with open('intermediate_file/jp_all.txt', 'r', encoding='utf-8') as f:\n",
    "    text_jp = f.readlines()\n",
    "print(list(js.keys())[:10])\n",
    "print('需要翻译：', len(list(js.keys())), '条')\n",
    "print('共有日文：', len(text_jp), '条， 应翻译：', len(set(text_jp)), '条')"
   ]
  },
  {
   "cell_type": "code",
   "execution_count": 16,
   "metadata": {},
   "outputs": [
    {
     "name": "stdout",
     "output_type": "stream",
     "text": "10 / 2179\n20 / 2179\n30 / 2179\n40 / 2179\n50 / 2179\n60 / 2179\n70 / 2179\n80 / 2179\n90 / 2179\n100 / 2179\n110 / 2179\n120 / 2179\n130 / 2179\n140 / 2179\n150 / 2179\n160 / 2179\n170 / 2179\n180 / 2179\n190 / 2179\n200 / 2179\n210 / 2179\n220 / 2179\n230 / 2179\n240 / 2179\n250 / 2179\n260 / 2179\n270 / 2179\n280 / 2179\n290 / 2179\n300 / 2179\n310 / 2179\n320 / 2179\n330 / 2179\n340 / 2179\n350 / 2179\n360 / 2179\n370 / 2179\n380 / 2179\n390 / 2179\n400 / 2179\n410 / 2179\n420 / 2179\n430 / 2179\n440 / 2179\n450 / 2179\n460 / 2179\n470 / 2179\n480 / 2179\n490 / 2179\n500 / 2179\n510 / 2179\n520 / 2179\n530 / 2179\n540 / 2179\n550 / 2179\n560 / 2179\n570 / 2179\n580 / 2179\n590 / 2179\n600 / 2179\n610 / 2179\n620 / 2179\n630 / 2179\n640 / 2179\n650 / 2179\n660 / 2179\n670 / 2179\n680 / 2179\n690 / 2179\n700 / 2179\n710 / 2179\n720 / 2179\n730 / 2179\n740 / 2179\n750 / 2179\n760 / 2179\n770 / 2179\n780 / 2179\n790 / 2179\n800 / 2179\n810 / 2179\n820 / 2179\n830 / 2179\n840 / 2179\n850 / 2179\n860 / 2179\n870 / 2179\n880 / 2179\n890 / 2179\n900 / 2179\n910 / 2179\n920 / 2179\n930 / 2179\n940 / 2179\n950 / 2179\n960 / 2179\n970 / 2179\n980 / 2179\n990 / 2179\n1000 / 2179\n1010 / 2179\n1020 / 2179\n1030 / 2179\n1040 / 2179\n1050 / 2179\n1060 / 2179\n1070 / 2179\n1080 / 2179\n1090 / 2179\n1100 / 2179\n1110 / 2179\n1120 / 2179\n1130 / 2179\n1140 / 2179\n1150 / 2179\n1160 / 2179\n1170 / 2179\n1180 / 2179\n1190 / 2179\n1200 / 2179\n1210 / 2179\n1220 / 2179\n1230 / 2179\n1240 / 2179\n1250 / 2179\n1260 / 2179\n1270 / 2179\n1280 / 2179\n1290 / 2179\n1300 / 2179\n1310 / 2179\n1320 / 2179\n1330 / 2179\n1340 / 2179\n1350 / 2179\n1360 / 2179\n1370 / 2179\n1380 / 2179\n1390 / 2179\n1400 / 2179\n1410 / 2179\n1420 / 2179\n1430 / 2179\n1440 / 2179\n1450 / 2179\n1460 / 2179\n1470 / 2179\n1480 / 2179\n1490 / 2179\n1500 / 2179\n1510 / 2179\n1520 / 2179\n1530 / 2179\n1540 / 2179\n1550 / 2179\n1560 / 2179\n1570 / 2179\n1580 / 2179\n1590 / 2179\n1600 / 2179\n1610 / 2179\n1620 / 2179\n1630 / 2179\n1640 / 2179\n1650 / 2179\n1660 / 2179\n1670 / 2179\n1680 / 2179\n1690 / 2179\n1700 / 2179\n1710 / 2179\n1720 / 2179\n1730 / 2179\n1740 / 2179\n1750 / 2179\n1760 / 2179\n1770 / 2179\n1780 / 2179\n1790 / 2179\n1800 / 2179\n1810 / 2179\n1820 / 2179\n1830 / 2179\n1840 / 2179\n1850 / 2179\n1860 / 2179\n1870 / 2179\n1880 / 2179\n1890 / 2179\n1900 / 2179\n1910 / 2179\n1920 / 2179\n1930 / 2179\n1940 / 2179\n1950 / 2179\n1960 / 2179\n1970 / 2179\n1980 / 2179\n1990 / 2179\n2000 / 2179\n2010 / 2179\n2020 / 2179\n2030 / 2179\n2040 / 2179\n2050 / 2179\n2060 / 2179\n2070 / 2179\n2080 / 2179\n2090 / 2179\n2100 / 2179\n2110 / 2179\n2120 / 2179\n2130 / 2179\n2140 / 2179\n2150 / 2179\n2160 / 2179\n2170 / 2179\n失败： 0 个！\n"
    }
   ],
   "source": [
    "# 把字典翻译\n",
    "with open('intermediate_file/jp-chs.json', 'r', encoding='utf-8') as f:\n",
    "    data = json.loads(f.read())\n",
    "\n",
    "need_translated = len(list(data.keys()))\n",
    "cnt = 0\n",
    "cnt_last = 0\n",
    "failed_list = []\n",
    "for key in data:\n",
    "    try:\n",
    "        if not data[key]:\n",
    "            ans = t(key)\n",
    "            data[key] = ans if ans else key\n",
    "        cnt+=1\n",
    "        # FIXME 模拟间断\n",
    "        # if cnt == 100:\n",
    "        #     break\n",
    "        if cnt - cnt_last == 10:\n",
    "            cnt_last = cnt\n",
    "            print(cnt, '/', need_translated)\n",
    "            with open('intermediate_file/jp-chs.json', 'w', encoding='utf-8') as f:\n",
    "                f.write(json.dumps(data))\n",
    "    except Exception as e:\n",
    "        print(e)\n",
    "        failed_list.append(key)\n",
    "else:\n",
    "    with open('intermediate_file/jp-chs.json', 'w', encoding='utf-8') as f:\n",
    "        f.write(json.dumps(data))\n",
    "    with open('intermediate_file/failed.text', 'w', encoding='utf-8') as f:\n",
    "        for line in failed_list:\n",
    "            f.write(line)\n",
    "    print('失败：', len(failed_list), '个！')\n"
   ]
  },
  {
   "cell_type": "code",
   "execution_count": 17,
   "metadata": {},
   "outputs": [],
   "source": [
    "# 构建对比\n",
    "with open('intermediate_file/jp-chs.json', 'r', encoding='utf-8') as f:\n",
    "    data = json.loads(f.read())\n",
    "cnt = 0\n",
    "with open('output/contrast.txt', 'w', encoding='utf-8') as f:\n",
    "    for i in data:\n",
    "        if data[i]:\n",
    "            f.write(i+' '+data[i]+'\\n')\n",
    "        else:\n",
    "            print(i, data[i])"
   ]
  },
  {
   "cell_type": "code",
   "execution_count": 64,
   "metadata": {},
   "outputs": [],
   "source": [
    "# 替换原文件\n",
    "with open('intermediate_file/jp-chs.json', 'r', encoding='utf-8') as f:\n",
    "    jp_chs = json.loads(f.read())\n",
    "\n",
    "file_origial = os.listdir('input')\n",
    "failed_text = []\n",
    "\n",
    "for file_name in file_origial:\n",
    "    with open('input/'+file_name, 'r', encoding='utf-8') as f:\n",
    "        data = f.readlines()\n",
    "    cnt = 0\n",
    "    for line in data:\n",
    "        key = line[:-4]\n",
    "        if key in jp_chs:\n",
    "            if line[0] == '「':\n",
    "                data[cnt] = '「' + jp_chs[key][1:-1] + '」'+line[-4:]\n",
    "            else:\n",
    "                data[cnt] = jp_chs[key] + line[-4:]\n",
    "        else:\n",
    "            cnt += 1\n",
    "            failed_text.append(line)\n",
    "\n",
    "    with open('output/'+file_name, 'w', encoding='utf-8') as f:\n",
    "        for line in data:\n",
    "            f.write(line)\n"
   ]
  },
  {
   "cell_type": "code",
   "execution_count": null,
   "metadata": {},
   "outputs": [],
   "source": []
  }
 ]
}