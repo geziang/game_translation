{
 "cells": [
  {
   "cell_type": "code",
   "execution_count": 1,
   "metadata": {},
   "outputs": [],
   "source": [
    "import os\n",
    "import re\n",
    "import json\n",
    "import chardet\n",
    "import scr.public_function as pf\n",
    "\n",
    "# NOTE 中间的所有文件都是UTF8\n",
    "encoding = 'utf8'\n",
    "output_encoding = 'utf8'\n",
    "\n",
    "pf._init_()\n",
    "name = ''"
   ]
  },
  {
   "cell_type": "code",
   "execution_count": null,
   "metadata": {},
   "outputs": [],
   "source": [
    "# 从游戏原文本文件提取日文\n",
    "\n",
    "def get_scenario_from_origin(data: list) -> list:\n",
    "    text_all = []\n",
    "    cnt = 0\n",
    "    # START FIXME\n",
    "    for line in data:\n",
    "        if pf.has_jp(line) and line[0] not in ';[/*\\t# ':\n",
    "            text_all.append(line)\n",
    "        cnt+=1\n",
    "    # END\n",
    "    return text_all\n",
    "\n",
    "pf.extract_jp(get_scenario_from_origin, encoding)\n"
   ]
  },
  {
   "cell_type": "code",
   "execution_count": null,
   "metadata": {
    "tags": []
   },
   "outputs": [],
   "source": [
    "# 创建翻译字典\n",
    "pf.create_dict(lambda x:x[:-1])"
   ]
  },
  {
   "cell_type": "code",
   "execution_count": null,
   "metadata": {
    "tags": []
   },
   "outputs": [],
   "source": [
    "# 检查字典key数量是否正确\n",
    "pf.check_dict()"
   ]
  },
  {
   "cell_type": "code",
   "execution_count": null,
   "metadata": {
    "tags": []
   },
   "outputs": [],
   "source": [
    "# 把字典翻译\n",
    "\n",
    "name = {\"<nm00>\":\"高田\",\"<ns01>\":\"一郎\",\"<nt01>\":\"奈々\"}\n",
    "# print(func2('「・・・ああ、うん、それで・・・スペシャル餃子、一つ・・・」'))\n",
    "pf.translate(delete_func=None)\n",
    "# print(pf._translate('<主人公の名前>「あ、はい…。問題ありません」<PG>', delete_func=lambda x:pf.LIVEMAKER.formate(x, name)))"
   ]
  },
  {
   "cell_type": "code",
   "execution_count": null,
   "metadata": {
    "tags": []
   },
   "outputs": [],
   "source": [
    "# 检查是否还有没翻译的语句\n",
    "pf.check_dict_untranslated()"
   ]
  },
  {
   "cell_type": "code",
   "execution_count": null,
   "metadata": {},
   "outputs": [],
   "source": [
    "# 构建对比\n",
    "pf.create_contrast()"
   ]
  },
  {
   "cell_type": "code",
   "execution_count": null,
   "metadata": {
    "tags": []
   },
   "outputs": [],
   "source": [
    "# 替换文本\n",
    "def find_all(data:list, failed_text:list, jp_chs:dict):\n",
    "    record = 0\n",
    "    cnt = 0                         # 当前行\n",
    "    start = False\n",
    "    for line in data:\n",
    "        #START FIXME 替换目标文本\n",
    "        if pf.has_jp(line) and line[0] not in ';[/*\\t# ':\n",
    "            key = line[:-1]\n",
    "            if key in jp_chs and jp_chs[key]:\n",
    "                record += 1\n",
    "                data[cnt] = data[cnt].replace(key, jp_chs[key])\n",
    "            else:\n",
    "                failed_text.append(key+'\\n')\n",
    "        cnt += 1\n",
    "        # END \n",
    "    return record\n",
    "\n",
    "pf.replace_all(find_all, encoding, output_encoding)"
   ]
  },
  {
   "cell_type": "code",
   "execution_count": null,
   "metadata": {},
   "outputs": [],
   "source": [
    "eval('b\"\\\\x'+'\\\\x'.join('3B 0B 08 3B 0C 69 00 3B 0D 69 02 91 01 3B 0E 5B 06 49 22\"'.split()))"
   ]
  },
  {
   "cell_type": "code",
   "execution_count": null,
   "metadata": {},
   "outputs": [],
   "source": []
  }
 ],
 "metadata": {
  "language_info": {
   "name": "python",
   "codemirror_mode": {
    "name": "ipython",
    "version": 3
   },
   "version": "3.7.4-final"
  },
  "orig_nbformat": 2,
  "file_extension": ".py",
  "mimetype": "text/x-python",
  "name": "python",
  "npconvert_exporter": "python",
  "pygments_lexer": "ipython3",
  "version": 3,
  "kernelspec": {
   "name": "python3",
   "display_name": "Python 3"
  }
 },
 "nbformat": 4,
 "nbformat_minor": 2
}