{
 "cells": [
  {
   "cell_type": "code",
   "execution_count": 1,
   "metadata": {},
   "outputs": [],
   "source": [
    "import os\n",
    "import re\n",
    "import json\n",
    "import chardet\n",
    "import scr.public_function as pf\n",
    "\n",
    "# NOTE 中间的所有文件都是UTF8\n",
    "encoding = 'utf16'\n",
    "output_encoding = 'utf16'\n",
    "\n",
    "pf._init_()\n",
    "name = '[110520][ディーゼルマイン] 君がいた図書室'"
   ]
  },
  {
   "cell_type": "code",
   "execution_count": null,
   "metadata": {},
   "outputs": [],
   "source": [
    "# FIXME 从游戏原文本文件提取日文\n",
    "\n",
    "\n",
    "def get_scenario_from_origin(data: list) -> list:\n",
    "    text_all = []\n",
    "    cnt = 0\n",
    "    # START FIXME\n",
    "    for line in data:\n",
    "        if pf.has_jp(line) and line[0] not in \"@*;\\t /S[\":\n",
    "            text_all.append(line)\n",
    "        cnt+=1\n",
    "    # END\n",
    "    return text_all\n",
    "\n",
    "pf.extract_jp(pf.get_scenario_from_origin_sakura, encoding)\n"
   ]
  },
  {
   "cell_type": "code",
   "execution_count": 3,
   "metadata": {},
   "outputs": [
    {
     "output_type": "stream",
     "name": "stdout",
     "text": "第一次建立字典！\n总共 14303 条\n添加关键字： 6290 条\n"
    }
   ],
   "source": [
    "# FIXME 创建翻译字典\n",
    "pf.create_dict(lambda x:x[:-1])"
   ]
  },
  {
   "cell_type": "code",
   "execution_count": 4,
   "metadata": {},
   "outputs": [
    {
     "output_type": "stream",
     "name": "stdout",
     "text": "['◆', 'カーテン越しに差し込んでくる、まどろむような春の日差しが部屋の中をトロトロと暖めてゆく。', '暖められた空気は穏やかな時間と溶け合って、ソファーの上で寝転がっているオレの回りをゆったりと流れる。', '「そろそろ起きないとダメだなあ」とか、「また怒られるんだろうなあ」といった考えが浮かんでは、生ぬるい意識の底に沈んでいって……', '歩「もー……おにいちゃん、またこんな所で寝てる」', 'ほら、やっぱり……', '歩「ねえ、今日は買い物に付き合ってくれる約束でしょ？\\u3000早く起きて、御飯食べてよ」', '肩を揺する小さな手の感触。', 'それはまだ二人とも小さかった頃、無邪気に繋いでいた手の大きさと変わっていないように感じられて……', '歩「おにいちゃん。早く起きないと御飯が冷めちゃうよ？」']\n需要翻译： 6290 条\n剩余翻译： 6290 条\n共有日文： 14303 条， 应翻译： 6290 条\n"
    }
   ],
   "source": [
    "# 检查字典key数量是否正确\n",
    "pf.check_dict()"
   ]
  },
  {
   "cell_type": "code",
   "execution_count": 2,
   "metadata": {
    "tags": [
     "outputPrepend",
     "outputPrepend",
     "outputPrepend",
     "outputPrepend",
     "outputPrepend",
     "outputPrepend",
     "outputPrepend",
     "outputPrepend",
     "outputPrepend",
     "outputPrepend",
     "outputPrepend",
     "outputPrepend",
     "outputPrepend",
     "outputPrepend",
     "outputPrepend",
     "outputPrepend",
     "outputPrepend",
     "outputPrepend"
    ]
   },
   "outputs": [
    {
     "output_type": "stream",
     "name": "stdout",
     "text": "30 / 6290\n60 / 6290\n90 / 6290\n120 / 6290\n150 / 6290\n180 / 6290\n210 / 6290\n240 / 6290\n270 / 6290\n300 / 6290\n330 / 6290\n360 / 6290\n390 / 6290\n420 / 6290\n450 / 6290\n480 / 6290\n510 / 6290\n540 / 6290\n570 / 6290\n600 / 6290\n630 / 6290\n660 / 6290\n690 / 6290\n720 / 6290\n750 / 6290\n780 / 6290\n810 / 6290\n840 / 6290\n870 / 6290\n900 / 6290\n930 / 6290\n960 / 6290\n990 / 6290\n1020 / 6290\n1050 / 6290\n1080 / 6290\n1110 / 6290\n1140 / 6290\n1170 / 6290\n1200 / 6290\n1230 / 6290\n1260 / 6290\n1290 / 6290\n1320 / 6290\n1350 / 6290\n1380 / 6290\n1410 / 6290\n1440 / 6290\n1470 / 6290\n1500 / 6290\n1530 / 6290\n1560 / 6290\n1590 / 6290\n1620 / 6290\n1650 / 6290\n1680 / 6290\n1710 / 6290\n1740 / 6290\n1770 / 6290\n1800 / 6290\n1830 / 6290\n1860 / 6290\n1890 / 6290\n1920 / 6290\n1950 / 6290\n1980 / 6290\n2010 / 6290\n2040 / 6290\n2070 / 6290\n2100 / 6290\n2130 / 6290\n2160 / 6290\n2190 / 6290\n2220 / 6290\n2250 / 6290\n2280 / 6290\n2310 / 6290\n2340 / 6290\n2370 / 6290\n2400 / 6290\n2430 / 6290\n2460 / 6290\n2490 / 6290\n2520 / 6290\n2550 / 6290\n2580 / 6290\n2610 / 6290\n2640 / 6290\n2670 / 6290\n2700 / 6290\n2730 / 6290\n2760 / 6290\n2790 / 6290\n2820 / 6290\n2850 / 6290\n2880 / 6290\n2910 / 6290\n2940 / 6290\n2970 / 6290\n3000 / 6290\n3030 / 6290\n3060 / 6290\n3090 / 6290\n3120 / 6290\n3150 / 6290\n3180 / 6290\n3210 / 6290\n3240 / 6290\n3270 / 6290\n3300 / 6290\n3330 / 6290\n3360 / 6290\n3390 / 6290\n3420 / 6290\n3450 / 6290\n3480 / 6290\n3510 / 6290\n3540 / 6290\n3570 / 6290\n3600 / 6290\n3630 / 6290\n3660 / 6290\n3690 / 6290\n3720 / 6290\n3750 / 6290\n3780 / 6290\n3810 / 6290\n3840 / 6290\n3870 / 6290\n3900 / 6290\n3930 / 6290\n3960 / 6290\n3990 / 6290\n4020 / 6290\n4050 / 6290\n4080 / 6290\n4110 / 6290\n4140 / 6290\n4170 / 6290\n4200 / 6290\n4230 / 6290\n4260 / 6290\n4290 / 6290\n4320 / 6290\n4350 / 6290\n4380 / 6290\n4410 / 6290\n4440 / 6290\n4470 / 6290\n4500 / 6290\n4530 / 6290\n4560 / 6290\n4590 / 6290\n4620 / 6290\n4650 / 6290\n4680 / 6290\n4710 / 6290\n4740 / 6290\n4770 / 6290\n4800 / 6290\n4830 / 6290\n4860 / 6290\n4890 / 6290\n4920 / 6290\n4950 / 6290\n4980 / 6290\n5010 / 6290\n5040 / 6290\n5070 / 6290\n5100 / 6290\n5130 / 6290\n5160 / 6290\n5190 / 6290\n5220 / 6290\n5250 / 6290\n5280 / 6290\n5310 / 6290\n5340 / 6290\n5370 / 6290\n5400 / 6290\n5430 / 6290\n5460 / 6290\n5490 / 6290\n5520 / 6290\n5550 / 6290\n5580 / 6290\n5610 / 6290\n5640 / 6290\n5670 / 6290\n5700 / 6290\n5730 / 6290\n5760 / 6290\n5790 / 6290\n5820 / 6290\n5850 / 6290\n5880 / 6290\n5910 / 6290\n5940 / 6290\n5970 / 6290\n6000 / 6290\n6030 / 6290\n6060 / 6290\n6090 / 6290\n6120 / 6290\n6150 / 6290\n6180 / 6290\n6210 / 6290\n6240 / 6290\n6270 / 6290\n失败： 1 个！\n"
    }
   ],
   "source": [
    "# 把字典翻译\n",
    "\n",
    "def format_yu_ris(text:str):\n",
    "    tags = re.findall(r'≪.+?≫', text)\n",
    "    for tag in tags:\n",
    "        _t = tag.find('／')\n",
    "        name = tag[1:_t]\n",
    "        text = text.replace(tag, name)\n",
    "    return text\n",
    "\n",
    "# print(format_yu_ris('歩「じゃあ≪射精／だ≫して……ね？　いっぱい……≪射精／だ≫してほしい」'))\n",
    "pf.translate(delete_func=format_yu_ris)\n",
    "# print(pf._translate('思う存分、[ruby text=な]膣[ruby text=か]内[ruby text=だ]射[ruby text=し]精して下さぁい[heart]」', delete_func=format_text))"
   ]
  },
  {
   "cell_type": "code",
   "execution_count": 3,
   "metadata": {
    "tags": [
     "outputPrepend"
    ]
   },
   "outputs": [
    {
     "output_type": "stream",
     "name": "stdout",
     "text": "◆ ◆\n２見ない→好感度－１ 2看不见→好感度-1\n「二人が店内で服を見ている」──という事は分かるけど、雰囲気までは掴みづらい。 「两个人在店内看衣服」──虽然知道这一点，但连气氛都很难把握。\n恵にしてみれば歩は「見栄えはイイけど、おとなしそうだから争いにはならないだろう」──その程度の軽い気持ちでの判断でしかない。 对惠来说步是「看起来很好看，但是看起来很老实，所以不会发生争执吧」──这只是以这种程度的轻松心情来判断而已。\n「どうしよう」──そればかりが頭の中でグルグルと回り続けるけど、「何」を「どうしよう」と思っているのかさえハッキリとしない。 「怎么办」──虽然这一切都在我的脑海里不停地旋转，「何」中，单击「怎么办」连他这么想都不清楚。\n──しかし、男性の前だと緊張してしまう歩にとって、考える隙を与えずに話を進めてくる環崎に何かを言えるハズもなく…… ──但是，对于在男性面前会感到紧张的步子来说，没有给人以思考的机会来推进话题的环崎，也没有说出什么话来的哈兹……\n──それが、環崎の嗜虐心を煽るとも知らずに。 ──也不知道这会煽动环崎的嗜虐心。\n──ある日、宅配便が歩宛に届く。 ──有一天，快递送到了步。\n「どうして逆らえないのか……」──歩は自分の行動を理解できないでいる。 「为什么不能违抗呢……」──步步不能理解自己的行动。\n「動かしたい」──歩の頭イッパイに、その言葉が占めてゆく。 「我想移动它」──这句话被步步之头伊派所占据。\n \n11\n"
    }
   ],
   "source": [
    "# 检查是否还有没翻译的语句\n",
    "pf.check_dict_untranslated()"
   ]
  },
  {
   "cell_type": "code",
   "execution_count": 4,
   "metadata": {},
   "outputs": [],
   "source": [
    "# 构建对比\n",
    "pf.create_contrast()"
   ]
  },
  {
   "cell_type": "code",
   "execution_count": 5,
   "metadata": {},
   "outputs": [
    {
     "output_type": "stream",
     "name": "stdout",
     "text": "yst00087.ybn 替换： 1\nyst00089.ybn 替换： 21\nyst00112.ybn 替换： 6122\nyst00114.ybn 替换： 4\nyst00115.ybn 替换： 67\nyst00117.ybn 替换： 12\nyst00118.ybn 替换： 3925\nyst00119.ybn替换： 4126\n失败： 1035\nencode yst00087.ybn\nencode yst00089.ybn\nencode yst00112.ybn\nencode yst00114.ybn\nencode yst00115.ybn\nencode yst00117.ybn\nencode yst00118.ybn\nencode yst00119.ybn\n"
    }
   ],
   "source": [
    "pf.YU_RIS.output_ybn()"
   ]
  },
  {
   "cell_type": "code",
   "execution_count": null,
   "metadata": {},
   "outputs": [],
   "source": [
    "\n",
    "def find_all(data:list, failed_text:list, jp_chs:dict):\n",
    "    record = 0\n",
    "    cnt = 0                         # 当前行\n",
    "    start = False\n",
    "    for line in data:\n",
    "        #START FIXME 替换目标文本\n",
    "        if pf.has_jp(line) and line[0] not in \"@*;\\t /[\":\n",
    "            key = line[:-1]\n",
    "            if key in jp_chs and jp_chs[key]:\n",
    "                record += 1\n",
    "                data[cnt] = data[cnt].replace(key, jp_chs[key])\n",
    "            else:\n",
    "                failed_text.append(key+'\\n')\n",
    "        cnt += 1\n",
    "        # END \n",
    "    return record\n",
    "\n",
    "pf.replace_all(find_all, encoding, output_encoding)"
   ]
  },
  {
   "cell_type": "code",
   "execution_count": null,
   "metadata": {},
   "outputs": [],
   "source": [
    "import sqlite3\n",
    "conn = sqlite3.connect('data/data.db')\n",
    "cursor = conn.cursor()"
   ]
  },
  {
   "cell_type": "code",
   "execution_count": null,
   "metadata": {},
   "outputs": [],
   "source": [
    "t = cursor.execute('''select * from translate''').fetchall()\n",
    "\n",
    "print(len(t), t[:10])"
   ]
  },
  {
   "cell_type": "code",
   "execution_count": null,
   "metadata": {},
   "outputs": [],
   "source": [
    "\n",
    "charset = set()\n",
    "for i in t:\n",
    "    for ch in i[1]:\n",
    "        ch = ch.encode('gbk', errors='ignore')\n",
    "        if ch:\n",
    "            charset.add(ch)\n",
    "        \n"
   ]
  },
  {
   "cell_type": "code",
   "execution_count": null,
   "metadata": {},
   "outputs": [],
   "source": [
    "table = [[],[],[]]   # 0x80-0xA0  , 0xA0-0xE0, 0xE0-0xFE\n",
    "max_t = 0\n",
    "max_char = None\n",
    "for ch in charset:    \n",
    "    if ch[0] > max_t:\n",
    "        max_t = ch[0]\n",
    "        max_char = ch.decode('gbk')\n",
    "    if 0x81<=ch[0]<0xA0:\n",
    "        table[0].append(ch.decode('gbk'))\n",
    "    elif 0xA0<=ch[0]<0xF0:\n",
    "        table[1].append(ch.decode('gbk'))\n",
    "    elif ch[0]>=0xF0:\n",
    "        table[2].append(ch.decode('gbk'))\n",
    "\n",
    "print(table[0], table[-1], max_t, max_char)"
   ]
  },
  {
   "cell_type": "code",
   "execution_count": null,
   "metadata": {},
   "outputs": [],
   "source": [
    "'扉'.encode('gbk')"
   ]
  },
  {
   "cell_type": "code",
   "execution_count": null,
   "metadata": {},
   "outputs": [],
   "source": []
  }
 ],
 "metadata": {
  "language_info": {
   "name": "python",
   "codemirror_mode": {
    "name": "ipython",
    "version": 3
   },
   "version": "3.7.4-final"
  },
  "orig_nbformat": 2,
  "file_extension": ".py",
  "mimetype": "text/x-python",
  "name": "python",
  "npconvert_exporter": "python",
  "pygments_lexer": "ipython3",
  "version": 3,
  "kernelspec": {
   "name": "python37464bit82406virtualenv93632c3e06ed4fcc875f088ae7b7b01a",
   "display_name": "Python 3.7.4 64-bit ('82406': virtualenv)"
  }
 },
 "nbformat": 4,
 "nbformat_minor": 2
}