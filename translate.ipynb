{
 "cells": [
  {
   "cell_type": "code",
   "execution_count": null,
   "metadata": {},
   "outputs": [],
   "source": [
    "import os\n",
    "import re\n",
    "import json\n",
    "import chardet\n",
    "import scr.public_function as pf\n",
    "\n",
    "# NOTE 中间的所有文件都是UTF8\n",
    "encoding = 'cp932'\n",
    "output_encoding = 'utf16'\n",
    "\n",
    "pf._init_()\n",
    "name = ''"
   ]
  },
  {
   "cell_type": "code",
   "execution_count": null,
   "metadata": {},
   "outputs": [],
   "source": [
    "# 从游戏原文本文件提取日文\n",
    "\n",
    "def get_scenario_from_origin(data: list) -> list:\n",
    "    text_all = []\n",
    "    cnt = 0\n",
    "    # START FIXME\n",
    "    for line in data:\n",
    "        if pf.has_jp(line) and line[0] not in \"#*[\":\n",
    "            text_all.append(line)\n",
    "        cnt+=1\n",
    "    # END\n",
    "    return text_all\n",
    "\n",
    "pf.extract_jp(get_scenario_from_origin, encoding)\n"
   ]
  },
  {
   "cell_type": "code",
   "execution_count": 10,
   "metadata": {
    "tags": []
   },
   "outputs": [
    {
     "output_type": "stream",
     "name": "stdout",
     "text": "添加条目:  14297\n"
    }
   ],
   "source": [
    "pf.Lilim.output_hook_dict()"
   ]
  },
  {
   "cell_type": "code",
   "execution_count": null,
   "metadata": {
    "tags": []
   },
   "outputs": [],
   "source": [
    "# 创建翻译字典\n",
    "pf.create_dict(lambda x:x[:-1])"
   ]
  },
  {
   "cell_type": "code",
   "execution_count": null,
   "metadata": {
    "tags": []
   },
   "outputs": [],
   "source": [
    "# 检查字典key数量是否正确\n",
    "pf.check_dict()"
   ]
  },
  {
   "cell_type": "code",
   "execution_count": null,
   "metadata": {
    "tags": [
     "outputPrepend"
    ]
   },
   "outputs": [],
   "source": [
    "# 把字典翻译\n",
    "\n",
    "# print(format_yu_ris('歩「じゃあ≪射精／だ≫して……ね？　いっぱい……≪射精／だ≫してほしい」'))\n",
    "pf.translate(delete_func=None)\n",
    "# print(pf._translate('「あーうそうそ！　冗談だってば！\\r\\n　昼飯は後でちゃんと喰わせるから、\\r\\n　今は俺を信じてもうちょっと歩こうぜ！」', ))"
   ]
  },
  {
   "cell_type": "code",
   "execution_count": null,
   "metadata": {
    "tags": []
   },
   "outputs": [],
   "source": [
    "# 检查是否还有没翻译的语句\n",
    "pf.check_dict_untranslated()"
   ]
  },
  {
   "cell_type": "code",
   "execution_count": null,
   "metadata": {},
   "outputs": [],
   "source": [
    "# 构建对比\n",
    "pf.create_contrast()"
   ]
  },
  {
   "cell_type": "code",
   "execution_count": null,
   "metadata": {
    "tags": []
   },
   "outputs": [],
   "source": [
    "# 替换文本\n",
    "def find_all(data:list, failed_text:list, jp_chs:dict):\n",
    "    record = 0\n",
    "    cnt = 0                         # 当前行\n",
    "    start = False\n",
    "    for line in data:\n",
    "        #START FIXME 替换目标文本\n",
    "        if pf.has_jp(line) and line[0] not in \"#*[\":\n",
    "            key = line[:-1]\n",
    "            if key in jp_chs and jp_chs[key]:\n",
    "                record += 1\n",
    "                data[cnt] = data[cnt].replace(key, jp_chs[key])\n",
    "            else:\n",
    "                failed_text.append(key+'\\n')\n",
    "        cnt += 1\n",
    "        # END \n",
    "    return record\n",
    "\n",
    "pf.replace_all(find_all, encoding, output_encoding)"
   ]
  },
  {
   "cell_type": "code",
   "execution_count": 5,
   "metadata": {},
   "outputs": [
    {
     "output_type": "error",
     "ename": "SyntaxError",
     "evalue": "unexpected character after line continuation character (<string>, line 1)",
     "traceback": [
      "Traceback \u001b[1;36m(most recent call last)\u001b[0m:\n",
      "  File \u001b[0;32m\"C:\\Users\\ssynn\\Anaconda3\\lib\\site-packages\\IPython\\core\\interactiveshell.py\"\u001b[0m, line \u001b[0;32m3326\u001b[0m, in \u001b[0;35mrun_code\u001b[0m\n    exec(code_obj, self.user_global_ns, self.user_ns)\n",
      "\u001b[1;36m  File \u001b[1;32m\"<ipython-input-5-827033c43b41>\"\u001b[1;36m, line \u001b[1;32m4\u001b[1;36m, in \u001b[1;35m<module>\u001b[1;36m\u001b[0m\n\u001b[1;33m    a = eval(a)\u001b[0m\n",
      "\u001b[1;36m  File \u001b[1;32m\"<string>\"\u001b[1;36m, line \u001b[1;32m1\u001b[0m\n\u001b[1;33m    \\x54\\x70\\x57\\x6F\\x72\\x64\\x31\\x30\\x35\\x00\\x00\\x00\\x00\\x01\\x00\\x00\\x00\\x03\\x00\\x00\\x00\\x00\\x00\\x00\\x00\\x00\\x00\\x00\\x00\\x03\\x00\\x00\\x00\\x06\\x00\\x00\\x00\\x00\\x0B\\x00\\x00\\x00\\x4D\\x45\\x4E\\x55\\x45\\x4E\\x41\\x42\\x4C\\x45\\x44\\x6\\x00\\x00\\x00\\x00\\x01\\x00\\x00\\x00\\x01\\x06\\x00\\x00\\x00\\x00\\x06\\x00\\x00\\x00\\x4D\\x45\\x53\\x45\\x4E\\x44\\x54\\x70\\x57\\x6F\\x72\\x64\\x31\\x30\\x35\\x00\\x00\\x00\\x00\\x01\\x00\\x00\\x00\\x03\\x00\\x00\\x00\\x00\\x00\\x00\\x00\\x00\\x00\\x00\\x00\\x03\\x00\\x00\\x00\\x06\\x00\\x00\\x00\\x00\\x0B\\x00\\x00\\x00\\x4D\\x45\\x4E\\x55\\x45\\x4E\\x41\\x42\\x4C\\x45\\x44\\x06\\x00\\x00\\x00\\x00\\x01\\x00\\x00\\x00\\x01\\x06\\x00\\x00\\x00\\x00\\x06\\x00\\x00\\x00\\x4D\\x45\\x53\\x45\\x4E\\x44\u001b[0m\n\u001b[1;37m                                                                                                                                                                                                                                                                                                                                                                                                                                                                                                                                                                                                                                                  ^\u001b[0m\n\u001b[1;31mSyntaxError\u001b[0m\u001b[1;31m:\u001b[0m unexpected character after line continuation character\n"
     ]
    }
   ],
   "source": [
    "a = '54 70 57 6F 72 64 31 30 35 00 00 00 00 01 00 00 00 03 00 00 00 00 00 00 00 00 00 00 00 03 00 00 00 06 00 00 00 00 0B 00 00 00 4D 45 4E 55 45 4E 41 42 4C 45 44 6 00 00 00 00 01 00 00 00 01 06 00 00 00 00 06 00 00 00 4D 45 53 45 4E 44 54 70 57 6F 72 64 31 30 35 00 00 00 00 01 00 00 00 03 00 00 00 00 00 00 00 00 00 00 00 03 00 00 00 06 00 00 00 00 0B 00 00 00 4D 45 4E 55 45 4E 41 42 4C 45 44 06 00 00 00 00 01 00 00 00 01 06 00 00 00 00 06 00 00 00 4D 45 53 45 4E 44'\n",
    "a = a.split()\n",
    "a = '\\\\x'+'\\\\x'.join(a)\n",
    "a = eval(a)\n",
    "print(a)"
   ]
  },
  {
   "cell_type": "code",
   "execution_count": 9,
   "metadata": {},
   "outputs": [
    {
     "output_type": "execute_result",
     "data": {
      "text/plain": "'…'"
     },
     "metadata": {},
     "execution_count": 9
    }
   ],
   "source": [
    "b'\\x81\\x63'.decode('cp932')"
   ]
  },
  {
   "cell_type": "code",
   "execution_count": 16,
   "metadata": {
    "tags": []
   },
   "outputs": [
    {
     "output_type": "stream",
     "name": "stdout",
     "text": "1\n"
    }
   ],
   "source": [
    "a = 0\n",
    "a += 1 if 5 < 100 else 4\n",
    "print(a)"
   ]
  },
  {
   "cell_type": "code",
   "execution_count": 1,
   "metadata": {
    "tags": []
   },
   "outputs": [
    {
     "output_type": "stream",
     "name": "stdout",
     "text": "0 1\n1 3\n2 4\n3 5\n4 6\n"
    }
   ],
   "source": [
    "a = [1,3,4,5,6]\n",
    "for i, c in enumerate(a):\n",
    "    print(i, c)"
   ]
  },
  {
   "cell_type": "code",
   "execution_count": null,
   "metadata": {},
   "outputs": [],
   "source": []
  }
 ],
 "metadata": {
  "language_info": {
   "name": "python",
   "codemirror_mode": {
    "name": "ipython",
    "version": 3
   },
   "version": "3.7.4-final"
  },
  "orig_nbformat": 2,
  "file_extension": ".py",
  "mimetype": "text/x-python",
  "name": "python",
  "npconvert_exporter": "python",
  "pygments_lexer": "ipython3",
  "version": 3,
  "kernelspec": {
   "name": "python3",
   "display_name": "Python 3"
  }
 },
 "nbformat": 4,
 "nbformat_minor": 2
}