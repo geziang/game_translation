{
 "cells": [
  {
   "cell_type": "code",
   "execution_count": null,
   "metadata": {
    "tags": []
   },
   "outputs": [],
   "source": [
    "import os\n",
    "import re\n",
    "import json\n",
    "import chardet\n",
    "import src.public_function as pf\n",
    "\n",
    "# NOTE 中间的所有文件都是UTF8\n",
    "encoding = 'utf16'\n",
    "output_encoding = 'utf16'\n",
    "\n",
    "pf._init_()\n",
    "name = ''"
   ]
  },
  {
   "cell_type": "code",
   "execution_count": null,
   "metadata": {},
   "outputs": [],
   "source": [
    "# 从游戏原文本文件提取日文\n",
    "\n",
    "def get_scenario_from_origin(data: list) -> list:\n",
    "    text_all = []\n",
    "    cnt = 0\n",
    "    # START FIXME\n",
    "    for line in data:\n",
    "        if pf.has_jp(line) and line[0] not in ';[/*\\t# ':\n",
    "            text_all.append(line)\n",
    "        cnt+=1\n",
    "    # END\n",
    "    return text_all\n",
    "\n",
    "pf.extract_jp(get_scenario_from_origin, encoding)\n"
   ]
  },
  {
   "cell_type": "code",
   "execution_count": null,
   "metadata": {
    "tags": []
   },
   "outputs": [],
   "source": [
    "# 创建翻译字典\n",
    "pf.create_dict(lambda x:x[:-1])"
   ]
  },
  {
   "cell_type": "code",
   "execution_count": null,
   "metadata": {
    "tags": []
   },
   "outputs": [],
   "source": [
    "# 检查字典key数量是否正确\n",
    "pf.check_dict()"
   ]
  },
  {
   "cell_type": "code",
   "execution_count": null,
   "metadata": {
    "tags": []
   },
   "outputs": [],
   "source": [
    "# 把字典翻译\n",
    "\n",
    "# print(func2('「・・・ああ、うん、それで・・・スペシャル餃子、一つ・・・」'))\n",
    "pf.translate()\n",
    "# print(pf._translate('＄β,はい、＄αです……あっ、先輩！　すみません、僕のせいでシフトが大幅に変わっちゃって……ご迷惑をおかけして本当にすみません', delete_func=lambda x: pf.PAC.format_pac(x, {'＄β':'优登','＄α':'天海'})))"
   ]
  },
  {
   "cell_type": "code",
   "execution_count": null,
   "metadata": {
    "tags": [
     "outputPrepend"
    ]
   },
   "outputs": [],
   "source": [
    "# 检查是否还有没翻译的语句\n",
    "pf.check_dict_untranslated()"
   ]
  },
  {
   "cell_type": "code",
   "execution_count": null,
   "metadata": {},
   "outputs": [],
   "source": [
    "# 构建对比\n",
    "pf.create_contrast()"
   ]
  },
  {
   "cell_type": "code",
   "execution_count": null,
   "metadata": {
    "tags": []
   },
   "outputs": [],
   "source": [
    "# 替换文本\n",
    "def find(data:list, failed_text:list, jp_chs:dict):\n",
    "    record = 0\n",
    "    cnt = 0                         # 当前行\n",
    "    start = False\n",
    "    for line in data:\n",
    "        #START FIXME 替换目标文本\n",
    "        if pf.has_jp(line) and line[0] not in ';[/*\\t# ':\n",
    "            key = line[:-1]\n",
    "            if key in jp_chs and jp_chs[key]:\n",
    "                record += 1\n",
    "                data[cnt] = data[cnt].replace(key, jp_chs[key])\n",
    "            else:\n",
    "                failed_text.append(key+'\\n')\n",
    "        cnt += 1\n",
    "        # END \n",
    "    return record\n",
    "\n",
    "pf.replace_all(find, encoding, output_encoding)"
   ]
  },
  {
   "cell_type": "code",
   "execution_count": null,
   "metadata": {
    "tags": []
   },
   "outputs": [],
   "source": [
    "jp_chs = dict()\n",
    "chs_file = os.listdir('chs')\n",
    "for f in chs_file:\n",
    "    _chs = pf.open_json(f'chs/{f}')\n",
    "    f = f.split('.')[0]+'.json'\n",
    "    json_root = 'intermediate_file/split_scenario/'+f\n",
    "    if os.path.exists(json_root):\n",
    "        _jp = pf.open_json(json_root)\n",
    "        _key_chs = list(_chs.keys())\n",
    "        _key_jp = list(_jp.keys())\n",
    "        if len(_key_chs) == len(_key_jp):\n",
    "            for i in range(len(_key_jp)):\n",
    "                jp_chs[_key_jp[i]] = _key_chs\n",
    "            # print('输入成功：', f)\n",
    "        else:\n",
    "            print('中日不匹配：', f)\n",
    "    else:\n",
    "        print('文件不存在：', f)\n",
    "pf.save_json('intermediate_file/jp_chs.json', jp_chs)"
   ]
  }
 ],
 "metadata": {
  "language_info": {
   "name": "python",
   "codemirror_mode": {
    "name": "ipython",
    "version": 3
   },
   "version": "3.7.4-final"
  },
  "orig_nbformat": 2,
  "file_extension": ".py",
  "mimetype": "text/x-python",
  "name": "python",
  "npconvert_exporter": "python",
  "pygments_lexer": "ipython3",
  "version": 3,
  "kernelspec": {
   "name": "python3",
   "display_name": "Python 3"
  }
 },
 "nbformat": 4,
 "nbformat_minor": 2
}