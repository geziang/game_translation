{
 "cells": [
  {
   "cell_type": "code",
   "execution_count": 2,
   "metadata": {},
   "outputs": [],
   "source": [
    "import os\n",
    "import re\n",
    "import json\n",
    "import chardet\n",
    "import scr.public_function as pf\n",
    "\n",
    "# NOTE 中间的所有文件都是UTF8\n",
    "encoding = 'cp932'\n",
    "output_encoding = 'utf16'\n",
    "\n",
    "pf._init_()\n",
    "name = '[200626][アトリエさくら]彼氏公認セフレ 愛する彼女はセフレ（あいつ）にイカされよがりまくる'"
   ]
  },
  {
   "cell_type": "code",
   "execution_count": null,
   "metadata": {},
   "outputs": [],
   "source": [
    "# FIXME 从游戏原文本文件提取日文\n",
    "\n",
    "def get_scenario_from_origin(data: list) -> list:\n",
    "    text_all = []\n",
    "    cnt = 0\n",
    "    # START FIXME\n",
    "    for line in data:\n",
    "        if pf.has_jp(line) and line[0] not in \"#*[\":\n",
    "            text_all.append(line)\n",
    "        cnt+=1\n",
    "    # END\n",
    "    return text_all\n",
    "\n",
    "pf.extract_jp(pf.get_scenario_from_origin_sakura, encoding)\n"
   ]
  },
  {
   "cell_type": "code",
   "execution_count": 3,
   "metadata": {
    "tags": []
   },
   "outputs": [
    {
     "output_type": "stream",
     "name": "stdout",
     "text": "第一次建立字典！\n总共 39597 条\n添加关键字： 36191 条\n"
    }
   ],
   "source": [
    "# FIXME 创建翻译字典\n",
    "pf.create_dict(lambda x:x[:-1])"
   ]
  },
  {
   "cell_type": "code",
   "execution_count": 4,
   "metadata": {
    "tags": []
   },
   "outputs": [
    {
     "output_type": "stream",
     "name": "stdout",
     "text": "['\\u3000平和な街だ。いつもと変わらぬ人々が行き交う街だ。いつもの日常の風景だ。こうした街の普通の営みを見るのが創真は好きだ。', '\\u3000でも、この平和はこれまでに三度、危機に陥っている。', '\\u3000異世界カルローンに存在する帝国ロギアからの侵攻によって……。', '\\u3000ロギア四天王ジネーヴラ、ガルゾム、更にサイボーグとして蘇ったジネーヴラΩ――彼らの攻撃によって多くの人々が犠牲になった。', '\\u3000街が破壊された。', '\\u3000人が怪人に変えられた。', '\\u3000日常が、命が奪われた。', '\\u3000それでも、この世界はまだ滅びていない。何故ならば、ロギアに敢然と立ち向かう者が――エクスティアがいたからだ。', '葛城真理奈', '「ブライトフェザー・エクスパンション！！」']\n需要翻译： 36191 条\n剩余翻译： 36191 条\n共有日文： 39597 条， 应翻译： 36191 条\n"
    }
   ],
   "source": [
    "# 检查字典key数量是否正确\n",
    "pf.check_dict()"
   ]
  },
  {
   "cell_type": "code",
   "execution_count": null,
   "metadata": {
    "tags": []
   },
   "outputs": [],
   "source": [
    "# 把字典翻译\n",
    "\n",
    "# print(format_yu_ris('歩「じゃあ≪射精／だ≫して……ね？　いっぱい……≪射精／だ≫してほしい」'))\n",
    "pf.translate(delete_func=pf.format_sakura)\n",
    "# print(pf._translate('[霧斗]「母さん、行ってきなよ。母さんにとっては孫だろ」\\f', delete_func=None))"
   ]
  },
  {
   "cell_type": "code",
   "execution_count": null,
   "metadata": {
    "tags": []
   },
   "outputs": [],
   "source": [
    "# 检查是否还有没翻译的语句\n",
    "pf.check_dict_untranslated()"
   ]
  },
  {
   "cell_type": "code",
   "execution_count": null,
   "metadata": {},
   "outputs": [],
   "source": [
    "# 构建对比\n",
    "pf.create_contrast()"
   ]
  },
  {
   "cell_type": "code",
   "execution_count": null,
   "metadata": {
    "tags": []
   },
   "outputs": [],
   "source": [
    "pf.convert_code('utf16','cp932')"
   ]
  },
  {
   "cell_type": "code",
   "execution_count": null,
   "metadata": {
    "tags": []
   },
   "outputs": [],
   "source": [
    "pf.output_translated_scenrio_sakura('utf16')"
   ]
  },
  {
   "cell_type": "code",
   "execution_count": null,
   "metadata": {
    "tags": []
   },
   "outputs": [],
   "source": [
    "def find_all(data:list, failed_text:list, jp_chs:dict):\n",
    "    record = 0\n",
    "    cnt = 0                         # 当前行\n",
    "    start = False\n",
    "    for line in data:\n",
    "        #START FIXME 替换目标文本\n",
    "        if pf.has_jp(line) and line[0] not in \"#*[\":\n",
    "            key = line[:-1]\n",
    "            if key in jp_chs and jp_chs[key]:\n",
    "                record += 1\n",
    "                data[cnt] = data[cnt].replace(key, jp_chs[key])\n",
    "            else:\n",
    "                failed_text.append(key+'\\n')\n",
    "        cnt += 1\n",
    "        # END \n",
    "    return record\n",
    "\n",
    "pf.replace_all(find_all, encoding, output_encoding)"
   ]
  },
  {
   "cell_type": "code",
   "execution_count": 51,
   "metadata": {
    "tags": []
   },
   "outputs": [
    {
     "output_type": "stream",
     "name": "stdout",
     "text": "(b'\\x00\\x83\\x8d\\x81[\\x83h\\x82\\xb5\\x82\\xdc\\x82\\xb7\\x82\\xa9\\x81H\\x00', 0, b'\\x00\\x83\\x8d\\x81[\\x83h\\x82\\xb5\\x82\\xdc\\x82\\xb7\\x82\\xa9\\x81H\\x00', b'\\x00\\xc8\\xb7\\xc8\\xcf\\xb6\\xc1\\xb5\\xb5\\xc2\\xf0\\xa3\\xbf\\x00\\x00\\x00\\x00\\x00\\x00', 1, '确认读档吗？')\n"
    }
   ],
   "source": [
    "a = '00 83 8D 81 5B 83 68 82 B5 82 DC 82 B7 82 A9 81 48 00'\n",
    "b = ('b\\'\\\\x'+'\\\\x'.join(a.split())+'\\'')\n",
    "b = (eval(b))\n",
    "chs = '确认读档吗？'\n",
    "c = b'\\x00'+chs.encode('gbk')+b'\\x00'*(len(b)-len(chs.encode('gbk'))-1)\n",
    "ans = (b, 0, b,c, 1,chs)\n",
    "print(ans)"
   ]
  },
  {
   "cell_type": "code",
   "execution_count": 52,
   "metadata": {
    "tags": []
   },
   "outputs": [
    {
     "output_type": "stream",
     "name": "stdout",
     "text": "(b'\\x00\\x83\\x8d\\x81[\\x83h\\x82\\xb5\\x82\\xdc\\x82\\xb7\\x82\\xa9\\x81H\\x00', 0, b'\\x00\\x83\\x8d\\x81[\\x83h\\x82\\xb5\\x82\\xdc\\x82\\xb7\\x82\\xa9\\x81H\\x00', b'\\x00\\xc8\\xb7\\xc8\\xcf\\xb6\\xc1\\xb5\\xb5\\xc2\\xf0\\xa3\\xbf\\x00\\x00\\x00\\x00\\x00\\x00', 1, '确认读档吗？')\n\u0000セーブしました\u0000\n"
    }
   ],
   "source": [
    "a = '00 83 5A 81 5B 83 75 82 B5 82 DC 82 B5 82 BD 00'\n",
    "b = ('b\\'\\\\x'+'\\\\x'.join(a.split())+'\\'')\n",
    "b = (eval(b))\n",
    "\n",
    "print(ans)\n",
    "print(b.decode('cp932'))"
   ]
  },
  {
   "cell_type": "code",
   "execution_count": null,
   "metadata": {},
   "outputs": [],
   "source": []
  }
 ],
 "metadata": {
  "language_info": {
   "name": "python",
   "codemirror_mode": {
    "name": "ipython",
    "version": 3
   },
   "version": "3.7.4-final"
  },
  "orig_nbformat": 2,
  "file_extension": ".py",
  "mimetype": "text/x-python",
  "name": "python",
  "npconvert_exporter": "python",
  "pygments_lexer": "ipython3",
  "version": 3,
  "kernelspec": {
   "name": "python37464bit82406virtualenv93632c3e06ed4fcc875f088ae7b7b01a",
   "display_name": "Python 3.7.4 64-bit ('82406': virtualenv)"
  }
 },
 "nbformat": 4,
 "nbformat_minor": 2
}