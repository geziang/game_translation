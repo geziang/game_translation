{
 "cells": [
  {
   "cell_type": "code",
   "execution_count": null,
   "metadata": {
    "tags": []
   },
   "outputs": [],
   "source": [
    "import os\n",
    "import re\n",
    "import json\n",
    "import chardet\n",
    "import src.public_function as pf\n",
    "\n",
    "# NOTE 中间的所有文件都是UTF8\n",
    "encoding = 'utf16'\n",
    "output_encoding = 'utf16'\n",
    "\n",
    "pf._init_()\n",
    "name = ''"
   ]
  },
  {
   "cell_type": "code",
   "execution_count": null,
   "metadata": {},
   "outputs": [],
   "source": [
    "# 从游戏原文本文件提取日文\n",
    "\n",
    "def get_scenario_from_origin(data: list) -> list:\n",
    "    text_all = []\n",
    "    cnt = 0\n",
    "    # START FIXME\n",
    "    for line in data:\n",
    "        if pf.has_jp(line) and line[0] not in ';[/*\\t# ':\n",
    "            text_all.append(line)\n",
    "        cnt+=1\n",
    "    # END\n",
    "    return text_all\n",
    "\n",
    "pf.extract_jp(get_scenario_from_origin, encoding)\n"
   ]
  },
  {
   "cell_type": "code",
   "execution_count": null,
   "metadata": {},
   "outputs": [],
   "source": [
    "pf.convert_code('utf-8',path='chs')"
   ]
  },
  {
   "cell_type": "code",
   "execution_count": null,
   "metadata": {
    "tags": []
   },
   "outputs": [],
   "source": [
    "# 创建翻译字典\n",
    "pf.create_dict(lambda x:x[:-1])"
   ]
  },
  {
   "cell_type": "code",
   "execution_count": null,
   "metadata": {
    "tags": []
   },
   "outputs": [],
   "source": [
    "# 检查字典key数量是否正确\n",
    "pf.check_dict()"
   ]
  },
  {
   "cell_type": "code",
   "execution_count": null,
   "metadata": {
    "tags": []
   },
   "outputs": [],
   "source": [
    "# 把字典翻译\n",
    "\n",
    "# print(func('「・・・ああ、うん、それで・・・スペシャル餃子、一つ・・・」'))\n",
    "pf.translate()\n",
    "# print(pf._translate('\"■１．思い切って提案する\\r\\n■２．やっぱり無理だ\\n\"', delete_func=lambda x: x.replace('・・・', '…')))"
   ]
  },
  {
   "cell_type": "code",
   "execution_count": null,
   "metadata": {
    "tags": []
   },
   "outputs": [],
   "source": [
    "# 检查是否还有没翻译的语句\n",
    "pf.check_dict_untranslated()"
   ]
  },
  {
   "cell_type": "code",
   "execution_count": null,
   "metadata": {},
   "outputs": [],
   "source": [
    "# 构建对比\n",
    "pf.create_contrast()"
   ]
  },
  {
   "cell_type": "code",
   "execution_count": null,
   "metadata": {
    "tags": []
   },
   "outputs": [],
   "source": [
    "# 替换文本\n",
    "def find(data:list, failed_text:list, jp_chs:dict):\n",
    "    record = 0\n",
    "    cnt = 0                         # 当前行\n",
    "    start = False\n",
    "    for line in data:\n",
    "        #START FIXME 替换目标文本\n",
    "        if pf.has_jp(line) and line[0] not in ';[/*\\t# ':\n",
    "            key = line[:-1]\n",
    "            if key in jp_chs and jp_chs[key]:\n",
    "                record += 1\n",
    "                data[cnt] = data[cnt].replace(key, jp_chs[key])\n",
    "            else:\n",
    "                failed_text.append(key+'\\n')\n",
    "        cnt += 1\n",
    "        # END \n",
    "    return record\n",
    "\n",
    "pf.replace_all(find, encoding, output_encoding)"
   ]
  },
  {
   "cell_type": "code",
   "execution_count": null,
   "metadata": {
    "tags": []
   },
   "outputs": [],
   "source": [
    "jp_chs = dict()\n",
    "chs_file = os.listdir('chs')\n",
    "for f in chs_file:\n",
    "    _chs = pf.open_json(f'chs/{f}')\n",
    "    f = f.split('.')[0]+'.json'\n",
    "    json_root = 'intermediate_file/split_scenario/'+f\n",
    "    if os.path.exists(json_root):\n",
    "        _jp = pf.open_json(json_root)\n",
    "        _key_chs = list(_chs.keys())\n",
    "        _key_jp = list(_jp.keys())\n",
    "        if len(_key_chs) == len(_key_jp):\n",
    "            for i in range(len(_key_jp)):\n",
    "                jp_chs[_key_jp[i]] = _key_chs\n",
    "            # print('输入成功：', f)\n",
    "        else:\n",
    "            print('中日不匹配：', f)\n",
    "    else:\n",
    "        print('文件不存在：', f)\n",
    "pf.save_json('intermediate_file/jp_chs.json', jp_chs)"
   ]
  },
  {
   "cell_type": "code",
   "execution_count": null,
   "metadata": {},
   "outputs": [],
   "source": [
    "jp_chs = pf.open_json(\"intermediate_file/jp_chs.json\")\n",
    "for key in jp_chs:\n",
    "    jp_chs[key] = key\n",
    "pf.save_json(\"intermediate_file/jp_chs.json\", jp_chs)"
   ]
  },
  {
   "cell_type": "code",
   "execution_count": null,
   "metadata": {},
   "outputs": [],
   "source": [
    "chs_file = os.listdir('chs')\n",
    "for f in chs_file:\n",
    "    new_name = f.replace(\".txt\",\".json\")\n",
    "    os.rename(f\"CHS/{f}\",f\"CHS/{new_name}\")"
   ]
  },
  {
   "cell_type": "code",
   "execution_count": null,
   "metadata": {},
   "outputs": [],
   "source": [
    "\"\"\"\n",
    "\"\", \",\n",
    ": \"\" : \"\n",
    "([^\"]),\\n $1\",\\n\n",
    ":([^\"]) : \"$1\n",
    ": ([^\"]) : \"$1\n",
    "\"\"\"\n",
    "\n",
    "jp_chs = pf.open_json(\"intermediate_file/jp_chs.json\")\n",
    "chs_file = os.listdir('chs')\n",
    "for f in chs_file:\n",
    "    print(f)\n",
    "    _chs = pf.open_json(f'chs/{f}')\n",
    "    for key in _chs:\n",
    "        jp_chs[key] = _chs[key]\n",
    "\n",
    "pf.save_json(\"intermediate_file/jp_chs.json\", jp_chs)\n"
   ]
  },
  {
   "cell_type": "code",
   "execution_count": null,
   "metadata": {},
   "outputs": [],
   "source": [
    "data=\"隐藏文字,剧本回忆,跳过已读的文章,自动播放文本,保存,加载,设置,自动跳过已读的文章,文本速度,自动文本发送时间设置,字体选择,播放声音,音量调节,BGM,效果音,台词,MIDI输出端口选择,全屏,游戏结束,游戏结束,返回标题,结束\"\n",
    "ans = ' '.join(list(map(lambda x:hex(x)[2:], data.encode('gbk'))))\n",
    "print(ans, hex(len(ans)))"
   ]
  },
  {
   "cell_type": "code",
   "execution_count": null,
   "metadata": {},
   "outputs": [],
   "source": [
    "'戦国の黒百合～ふたなり姫と隷属の少女～'.encode('gbk')"
   ]
  },
  {
   "cell_type": "code",
   "execution_count": null,
   "metadata": {},
   "outputs": [],
   "source": [
    "os.mkdir(f'chs')"
   ]
  },
  {
   "cell_type": "code",
   "execution_count": null,
   "metadata": {},
   "outputs": [],
   "source": [
    "def extract_med():\n",
    "    '''\n",
    "    从input文件夹内的脚本文件抽取文本\n",
    "    文本自动存入intermediate_file/jp_all.txt        \n",
    "    '''\n",
    "    def _has_jp(line: str) -> bool:\n",
    "        '''\n",
    "        如果含有日文文字（除日文标点）则认为传入文字含有日文, 返回true\n",
    "        '''\n",
    "        for ch in line:\n",
    "            if ('\\u0800' <= ch and ch <= '\\u9fa5') or ('\\uff01' <= ch <= '\\uff5e'):\n",
    "                return True\n",
    "        return False\n",
    "\n",
    "    file_all = os.listdir('input')\n",
    "    ans = []\n",
    "    for f in file_all:\n",
    "        _ans = []\n",
    "        _data = pf.open_file_b(f'input/{f}')\n",
    "        # _data = MED.decrypt(_data)\n",
    "        _offset = int.from_bytes(_data[4:8], byteorder='little') + 0x10\n",
    "        _str = _data[_offset:]\n",
    "        _buff = b''\n",
    "        for i in _str:\n",
    "            if i:\n",
    "                _buff += pf.to_bytes(i, 1)\n",
    "            else:\n",
    "                try:\n",
    "                    _buff = _buff.decode('cp932')\n",
    "                    if _has_jp(_buff) and _buff[0] not in ';#':\n",
    "                        # if name:\n",
    "                        #     _buff = _buff.replace('＄０', name)\n",
    "                        _ans.append(_buff)\n",
    "                except Exception as e:\n",
    "                    print(e)\n",
    "                    print(f, _buff)\n",
    "                _buff = b''\n",
    "        _t = {}\n",
    "        for i in _ans:\n",
    "            _t[i]=\"\"\n",
    "        pf.save_file(f\"chs/{f}\", json.dumps(_t, ensure_ascii=False, indent=2))\n",
    "extract_med()"
   ]
  },
  {
   "cell_type": "code",
   "execution_count": null,
   "metadata": {},
   "outputs": [],
   "source": []
  }
 ],
 "metadata": {
  "language_info": {
   "name": "python",
   "codemirror_mode": {
    "name": "ipython",
    "version": 3
   },
   "version": "3.7.4-final"
  },
  "orig_nbformat": 2,
  "file_extension": ".py",
  "mimetype": "text/x-python",
  "name": "python",
  "npconvert_exporter": "python",
  "pygments_lexer": "ipython3",
  "version": 3,
  "kernelspec": {
   "name": "python3",
   "display_name": "Python 3",
   "language": "python"
  }
 },
 "nbformat": 4,
 "nbformat_minor": 2
}